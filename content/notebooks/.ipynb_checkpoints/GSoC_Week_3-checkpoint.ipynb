{
 "metadata": {
  "name": "",
  "signature": "sha256:4d39a0f14038f07b1b7cc6a530d60ff901708bdfa64eb31f633179874f049870"
 },
 "nbformat": 3,
 "nbformat_minor": 0,
 "worksheets": [
  {
   "cells": [
    {
     "cell_type": "markdown",
     "metadata": {},
     "source": [
      "This week I refactored the `Linearizer` class to fit a general system of\n",
      "equations. This means that any of the following can be absent, and the\n",
      "linearization still is valid:\n",
      "\n",
      "$$\n",
      "\\begin{array}[rl]\n",
      "\\\\f_{c}(q, t) &= 0_{lx1} \\\\\n",
      "f_{v}(q, u, t) &= 0_{mx1} \\\\\n",
      "f_{a}(q, \\dot{q}, u, \\dot{u}, t) &= 0_{mx1} \\\\\n",
      "f_{0}(q, \\dot{q}, t) + f_{1}(q, u, t) &= 0_{nx1} \\\\\n",
      "f_{2}(q, \\dot{u}, t) + f_{3}(q, \\dot{q}, u, r, t) &= 0_{(o-m)x1} \\\\\n",
      "\\end{array}\n",
      "$$\n",
      "with\n",
      "\n",
      "$$\n",
      "\\begin{array}[rl]\n",
      "\\\\q, \\dot{q} & \\in \\mathbb{R}^n \\\\\n",
      "u, \\dot{u} & \\in \\mathbb{R}^o \\\\\n",
      "r & \\in \\mathbb{R}^s \n",
      "\\end{array}\n",
      "$$\n",
      "\n",
      "Note that vectors can be absent too. This means the system can be entirely $q$ \n",
      "or $u$ components. More on this later.\n",
      "\n",
      "Much of the rest of the week was spent finishing up all methods related to the\n",
      "`KanesMethod` class. This was mostly cleaning up the code base, and fixing\n",
      "all the tests in place for the previous `linearize` method. As of this point,\n",
      "the linearization routines accomplish everything that was in place before, but\n",
      "in a more general and extensible way. This is all included in the\n",
      "`LinearizerClass` branch on my GitHub repo. There is a pull request on my own\n",
      "master branch open right now for code review\n",
      "[here](https://github.com/jcrist/sympy/pull/1). I'll leave this up for another\n",
      "day or two before closing it and making all pull request to `Sympy/master`.\n",
      "\n",
      "I also started work on linearizing a system of equations presented in matrix\n",
      "form. This still needs lots of code improvements (it's inefficient), but\n",
      "it currently works. Below is a demo.\n",
      "\n",
      "The system is the same system I use for my research - a dual solenoid actuator.\n",
      "There are two dependent variables: `lam1` and `lam2`. The dynamics are thus\n",
      "expressed by 3 dynamic differential equations, and two constraint equations."
     ]
    },
    {
     "cell_type": "code",
     "collapsed": false,
     "input": [
      "from sympy import symbols, Matrix\n",
      "from sympy.physics.mechanics import dynamicsymbols, mprint\n",
      "from sympy.physics.mechanics.linearize import Linearizer, matrix_to_linearizer\n",
      "\n",
      "# Create constant symbols\n",
      "B1, B2 = symbols('B1, B2')\n",
      "d1, d2, D = symbols('d1, d2, D')\n",
      "R1, R2 = symbols('R1, R2')\n",
      "m = symbols('m')\n",
      "t = symbols('t')\n",
      "\n",
      "# Create dynamicsymbols\n",
      "i1, i2 = dynamicsymbols('i1, i2')\n",
      "V1, V2 = dynamicsymbols('V1, V2')\n",
      "x = dynamicsymbols('x')\n",
      "xdot = x.diff()\n",
      "lam1, lam2 = dynamicsymbols('lam1, lam2')\n",
      "lam1dot, lam2dot = dynamicsymbols('lam1, lam2', 1)\n",
      "\n",
      "# Define vectors. Because all speeds are derivatives of the coordinates,\n",
      "# the system is best represented as just a vector of u. The dependent\n",
      "# states are lam1 and lam2\n",
      "u = Matrix([i1, i2, xdot, x, lam1, lam2])\n",
      "udep = u[4:]\n",
      "\n",
      "# Define system of equations\n",
      "eom = Matrix([B1/(d1 + x)*i1 - lam1,\n",
      "              B2/(D + d2 - x)*i2 - lam2,\n",
      "              -lam1dot - R1*i1 + V1,\n",
      "              -lam2dot - R2*i2 + V2,\n",
      "              -xdot.diff() + (B2/(d2 + D - x)**2 * i2**2 - B1/(d1 + x)**2 * i1**2)/m])\n",
      "\n",
      "# Perform the linearization\n",
      "linearizer = matrix_to_linearizer(eom, u=u, udep=udep)\n",
      "A, B = linearizer.linearize(A_and_B=True)"
     ],
     "language": "python",
     "metadata": {},
     "outputs": [],
     "prompt_number": 1
    },
    {
     "cell_type": "code",
     "collapsed": false,
     "input": [
      "mprint(A)"
     ],
     "language": "python",
     "metadata": {},
     "outputs": [
      {
       "output_type": "stream",
       "stream": "stdout",
       "text": [
        "Matrix([\n",
        "[(B1*x' - R1*(d1 + x)**2)/(B1*(d1 + x)),                                               0,                        ((d1 + x)*i1' - 2*i1*x')/(d1 + x)**2,      2*i1/(d1 + x)],\n",
        "[                                     0, -(B2*x' + R2*(D + d2 - x)**2)/(B2*(D + d2 - x)),               -((D + d2 - x)*i2' + 2*i2*x')/(D + d2 - x)**2, -2*i2/(D + d2 - x)],\n",
        "[                                     0,                                               0,                                                           0,                  1],\n",
        "[              -2*B1*i1/(m*(d1 + x)**2),                     2*B2*i2/(m*(D + d2 - x)**2), 2*B1*i1**2/(m*(d1 + x)**3) + 2*B2*i2**2/(m*(D + d2 - x)**3),                  0]])\n"
       ]
      }
     ],
     "prompt_number": 2
    },
    {
     "cell_type": "code",
     "collapsed": false,
     "input": [
      "mprint(B)"
     ],
     "language": "python",
     "metadata": {},
     "outputs": [
      {
       "output_type": "stream",
       "stream": "stdout",
       "text": [
        "Matrix([\n",
        "[(d1 + x)/B1,               0],\n",
        "[          0, (D + d2 - x)/B2],\n",
        "[          0,               0],\n",
        "[          0,               0]])\n"
       ]
      }
     ],
     "prompt_number": 3
    },
    {
     "cell_type": "markdown",
     "metadata": {},
     "source": [
      "You'll have to trust me that the above representations are the same ones that I derived for my research project. This is really exciting progress! If everything works out (and it looks like it will), it will be possible to derive a system of dynamic equations anywhere in sympy, and then linearize it using the functionality I implement in the `linearize` function.\n",
      "\n",
      "Currently the system of equations is must formed as a matrix, and then passed\n",
      "to `matrix_to_linearizer` to return a `Linearizer` object. Once this code is\n",
      "cleaned up, it will be used internally by the general `linearize` function to\n",
      "convert the system to a `Linearizer`, perform the linearization, and return\n",
      "the results. I plan on implementing this functionality next week.\n",
      "\n",
      "The code used above is found in my `matrix2linearizer` branch on GitHub [here](https://github.com/jcrist/sympy/tree/matrix2linearizer). As before, I made a pull request on my own rep, so people may review the code before i submit it to Sympy proper. The PR is [here](https://github.com/jcrist/sympy/pull/2)."
     ]
    }
   ],
   "metadata": {}
  }
 ]
}