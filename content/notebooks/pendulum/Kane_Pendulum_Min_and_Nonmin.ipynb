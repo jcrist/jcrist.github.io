{
 "metadata": {
  "name": "",
  "signature": "sha256:a4849b59e807a31461d11e425b5f8100b1859328cba43d2346b38b6ed83033d6"
 },
 "nbformat": 3,
 "nbformat_minor": 0,
 "worksheets": [
  {
   "cells": [
    {
     "cell_type": "markdown",
     "metadata": {},
     "source": [
      "This summer I got accepted into [Google Summer of Code](https://www.google-melange.com/gsoc/homepage/google/gsoc2014) under [Sympy](http://sympy.org/en/index.html). For those that don't know, Sympy is a computer algebra system (CAS) written in Python. It can handle all sorts of mathematics, but what I use it most for is deriving and solving for the equations of motion for physical systems using the functionality found in `Sympy.physics.mechanics` (as seen in [this previous post](http://jcrist.github.io/differential-drive-part-1.html)).\n",
      "\n",
      "My project this summer is adding a robust linearization routine to this package to linearize systems with constraints. The code provided in `sympy.physics.mechanics` currently makes it very easy to\n",
      "generate the equations of motion (EOM) for the dynamics of rigid, multibody systems.\n",
      "However, these EOM are typically nonlinear in nature, and can be quite lengthy.\n",
      "For analysis, linearizing the equations about equilibrium points, or trajectories\n",
      "is desired. Linearized equations are exceptionally useful because:\n",
      "\n",
      "- They reduce the computational complexity of analysis and simulation\n",
      "- They allow for traditional stability analysis via eigenvalue decomposition\n",
      "- They are often used in control theory for controller design and analysis\n",
      "\n",
      "Nonlinear equations can typically be written in the following form:\n",
      "\n",
      "$$\\dot{x} = f(t, x, u)$$\n",
      "\n",
      "where $t$ is time, $x$ is the system state, and $u$ is the input to the system. For\n",
      "unconstrained systems (systems, where the states are only functions of time, and\n",
      "not of each other), linearization is as simple as taking the jacobian of $f(t, x, u)$ with\n",
      "respect to $x$ and $u$\n",
      "\n",
      "$$\\dot{\\delta x} \\approx \\nabla_x f(t, x, u) |_{x^*, u^*} \\delta x + \\nabla_u f(t, x, u) |_{x^*, u^*} \\delta u$$\n",
      "\n",
      "where $x^*$ and $u^*$ represent the trajectory or equilibrium point that linearization is occuring about, and $\\delta x$ and $\\delta u$ are the changes from this point (i.e. $\\delta x = x - x^*$).\n",
      "\n",
      "However, if there are constraints, then linearization becomes more complicated, due to the fact that some variables in $x$ are now functions of other variables, leading to the need to implement the chain rule. Simply taking the jacobian as you normally would leads to a linearization that doesn't accurately represent the system. This is demonstrated below with an example of a simple pendulum."
     ]
    },
    {
     "cell_type": "markdown",
     "metadata": {},
     "source": [
      "# Example: Single Pendulum with Minimum Coordinates"
     ]
    },
    {
     "cell_type": "markdown",
     "metadata": {},
     "source": [
      "To derive the equations of motion, well first use Kane's Method with no constraints. Kane's Method is something I hadn't seen before in my dynamic's classes (we focussed more on Lagrange), so I spent part of this week learning it. It differs from Lagrange's method in that instead of only choosing generalized coordinats, generalized speeds are choosen as well. This can make the equations simpler, as the speeds do not have to be the derivatives of the coordinates.\n",
      "\n",
      "While Sympy has functions to make the derivation using Kane's Method easier, I'm going to show each calculation step for a clearer description of the method."
     ]
    },
    {
     "cell_type": "code",
     "collapsed": false,
     "input": [
      "from IPython.display import SVG\n",
      "SVG(filename='Pendulum_Min_Coord.svg')"
     ],
     "language": "python",
     "metadata": {},
     "outputs": [
      {
       "metadata": {},
       "output_type": "pyout",
       "prompt_number": 1,
       "svg": [
        "<svg height=\"378.96869\" id=\"svg2\" inkscape:version=\"0.48.4 r9939\" sodipodi:docname=\"Pendulum_Min_Coord.svg\" version=\"1.1\" width=\"372.53574\" xmlns=\"http://www.w3.org/2000/svg\" xmlns:cc=\"http://creativecommons.org/ns#\" xmlns:dc=\"http://purl.org/dc/elements/1.1/\" xmlns:inkscape=\"http://www.inkscape.org/namespaces/inkscape\" xmlns:rdf=\"http://www.w3.org/1999/02/22-rdf-syntax-ns#\" xmlns:sodipodi=\"http://sodipodi.sourceforge.net/DTD/sodipodi-0.dtd\" xmlns:svg=\"http://www.w3.org/2000/svg\" xmlns:xlink=\"http://www.w3.org/1999/xlink\">\n",
        "  <sodipodi:namedview bordercolor=\"#666666\" borderopacity=\"1.0\" fit-margin-bottom=\"5\" fit-margin-left=\"5\" fit-margin-right=\"5\" fit-margin-top=\"5\" id=\"base\" inkscape:current-layer=\"layer1\" inkscape:cx=\"115.27797\" inkscape:cy=\"110.74674\" inkscape:document-units=\"px\" inkscape:pageopacity=\"0.0\" inkscape:pageshadow=\"2\" inkscape:window-height=\"693\" inkscape:window-maximized=\"1\" inkscape:window-width=\"1366\" inkscape:window-x=\"0\" inkscape:window-y=\"23\" inkscape:zoom=\"1\" pagecolor=\"#ffffff\" showgrid=\"false\"/>\n",
        "  <defs id=\"defs4\">\n",
        "    <pattern id=\"pattern6485\" inkscape:collect=\"always\" patternTransform=\"matrix(1.4782083,0,0,12.709288,204.03947,0)\" xlink:href=\"#Strips1_4\"/>\n",
        "    <pattern height=\"1\" id=\"Strips1_4\" inkscape:collect=\"always\" inkscape:stockid=\"Stripes 1:4\" patternTransform=\"translate(0,0) scale(10,10)\" patternUnits=\"userSpaceOnUse\" width=\"5\">\n",
        "      <rect height=\"2\" id=\"rect5768\" style=\"fill:black;stroke:none\" width=\"1\" x=\"0\" y=\"-0.5\"/>\n",
        "    </pattern>\n",
        "    <marker id=\"Arrow2Lend\" inkscape:stockid=\"Arrow2Lend\" orient=\"auto\" refX=\"0\" refY=\"0\" style=\"overflow:visible\">\n",
        "      <path d=\"M 8.7185878,4.0337352 -2.2072895,0.01601326 8.7185884,-4.0017078 c -1.7454984,2.3720609 -1.7354408,5.6174519 -6e-7,8.035443 z\" id=\"path3812\" inkscape:connector-curvature=\"0\" style=\"fill-rule:evenodd;stroke-width:0.625;stroke-linejoin:round\" transform=\"matrix(-1.1,0,0,-1.1,-1.1,0)\"/>\n",
        "    </marker>\n",
        "    <marker id=\"Arrow2Lstart\" inkscape:stockid=\"Arrow2Lstart\" orient=\"auto\" refX=\"0\" refY=\"0\" style=\"overflow:visible\">\n",
        "      <path d=\"M 8.7185878,4.0337352 -2.2072895,0.01601326 8.7185884,-4.0017078 c -1.7454984,2.3720609 -1.7354408,5.6174519 -6e-7,8.035443 z\" id=\"path3809\" inkscape:connector-curvature=\"0\" style=\"fill-rule:evenodd;stroke-width:0.625;stroke-linejoin:round\" transform=\"matrix(1.1,0,0,1.1,1.1,0)\"/>\n",
        "    </marker>\n",
        "    <marker id=\"Arrow1Lstart\" inkscape:stockid=\"Arrow1Lstart\" orient=\"auto\" refX=\"0\" refY=\"0\" style=\"overflow:visible\">\n",
        "      <path d=\"M 0,0 5,-5 -12.5,0 5,5 0,0 z\" id=\"path3791\" inkscape:connector-curvature=\"0\" style=\"fill-rule:evenodd;stroke:#000000;stroke-width:1pt\" transform=\"matrix(0.8,0,0,0.8,10,0)\"/>\n",
        "    </marker>\n",
        "    <marker id=\"Arrow2Lstart-8\" inkscape:stockid=\"Arrow2Lstart\" orient=\"auto\" refX=\"0\" refY=\"0\" style=\"overflow:visible\">\n",
        "      <path d=\"M 8.7185878,4.0337352 -2.2072895,0.01601326 8.7185884,-4.0017078 c -1.7454984,2.3720609 -1.7354408,5.6174519 -6e-7,8.035443 z\" id=\"path3809-7\" inkscape:connector-curvature=\"0\" style=\"fill-rule:evenodd;stroke-width:0.625;stroke-linejoin:round\" transform=\"matrix(1.1,0,0,1.1,1.1,0)\"/>\n",
        "    </marker>\n",
        "    <marker id=\"Arrow2Lend-7\" inkscape:stockid=\"Arrow2Lend\" orient=\"auto\" refX=\"0\" refY=\"0\" style=\"overflow:visible\">\n",
        "      <path d=\"M 8.7185878,4.0337352 -2.2072895,0.01601326 8.7185884,-4.0017078 c -1.7454984,2.3720609 -1.7354408,5.6174519 -6e-7,8.035443 z\" id=\"path3812-7\" inkscape:connector-curvature=\"0\" style=\"fill-rule:evenodd;stroke-width:0.625;stroke-linejoin:round\" transform=\"matrix(-1.1,0,0,-1.1,-1.1,0)\"/>\n",
        "    </marker>\n",
        "    <marker id=\"Arrow2Lend-8\" inkscape:stockid=\"Arrow2Lend\" orient=\"auto\" refX=\"0\" refY=\"0\" style=\"overflow:visible\">\n",
        "      <path d=\"M 8.7185878,4.0337352 -2.2072895,0.01601326 8.7185884,-4.0017078 c -1.7454984,2.3720609 -1.7354408,5.6174519 -6e-7,8.035443 z\" id=\"path3812-74\" inkscape:connector-curvature=\"0\" style=\"fill-rule:evenodd;stroke-width:0.625;stroke-linejoin:round\" transform=\"matrix(-1.1,0,0,-1.1,-1.1,0)\"/>\n",
        "    </marker>\n",
        "    <marker id=\"Arrow2Lend-3\" inkscape:stockid=\"Arrow2Lend\" orient=\"auto\" refX=\"0\" refY=\"0\" style=\"overflow:visible\">\n",
        "      <path d=\"M 8.7185878,4.0337352 -2.2072895,0.01601326 8.7185884,-4.0017078 c -1.7454984,2.3720609 -1.7354408,5.6174519 -6e-7,8.035443 z\" id=\"path3812-8\" inkscape:connector-curvature=\"0\" style=\"fill-rule:evenodd;stroke-width:0.625;stroke-linejoin:round\" transform=\"matrix(-1.1,0,0,-1.1,-1.1,0)\"/>\n",
        "    </marker>\n",
        "    <marker id=\"Arrow2Lend-6\" inkscape:stockid=\"Arrow2Lend\" orient=\"auto\" refX=\"0\" refY=\"0\" style=\"overflow:visible\">\n",
        "      <path d=\"M 8.7185878,4.0337352 -2.2072895,0.01601326 8.7185884,-4.0017078 c -1.7454984,2.3720609 -1.7354408,5.6174519 -6e-7,8.035443 z\" id=\"path3812-4\" inkscape:connector-curvature=\"0\" style=\"fill-rule:evenodd;stroke-width:0.625;stroke-linejoin:round\" transform=\"matrix(-1.1,0,0,-1.1,-1.1,0)\"/>\n",
        "    </marker>\n",
        "    <marker id=\"Arrow2Lend-5\" inkscape:stockid=\"Arrow2Lend\" orient=\"auto\" refX=\"0\" refY=\"0\" style=\"overflow:visible\">\n",
        "      <path d=\"M 8.7185878,4.0337352 -2.2072895,0.01601326 8.7185884,-4.0017078 c -1.7454984,2.3720609 -1.7354408,5.6174519 -6e-7,8.035443 z\" id=\"path3812-9\" inkscape:connector-curvature=\"0\" style=\"fill-rule:evenodd;stroke-width:0.625;stroke-linejoin:round\" transform=\"matrix(-1.1,0,0,-1.1,-1.1,0)\"/>\n",
        "    </marker>\n",
        "    <marker id=\"Arrow2Lend-1\" inkscape:stockid=\"Arrow2Lend\" orient=\"auto\" refX=\"0\" refY=\"0\" style=\"overflow:visible\">\n",
        "      <path d=\"M 8.7185878,4.0337352 -2.2072895,0.01601326 8.7185884,-4.0017078 c -1.7454984,2.3720609 -1.7354408,5.6174519 -6e-7,8.035443 z\" id=\"path3812-90\" inkscape:connector-curvature=\"0\" style=\"fill-rule:evenodd;stroke-width:0.625;stroke-linejoin:round\" transform=\"matrix(-1.1,0,0,-1.1,-1.1,0)\"/>\n",
        "    </marker>\n",
        "    <marker id=\"Arrow2Lend-1k\" inkscape:stockid=\"Arrow2Lend-1k\" orient=\"auto\" refX=\"0\" refY=\"0\" style=\"overflow:visible\">\n",
        "      <path d=\"M 8.7185878,4.0337352 -2.2072895,0.01601326 8.7185884,-4.0017078 c -1.7454984,2.3720609 -1.7354408,5.6174519 -6e-7,8.035443 z\" id=\"path7949\" inkscape:connector-curvature=\"0\" style=\"fill:#ff0000;fill-rule:evenodd;stroke:#ff0000;stroke-width:0.625;stroke-linejoin:round\" transform=\"matrix(-1.1,0,0,-1.1,-1.1,0)\"/>\n",
        "    </marker>\n",
        "    <marker id=\"Arrow2Lend4\" inkscape:stockid=\"Arrow2Lend4\" orient=\"auto\" refX=\"0\" refY=\"0\" style=\"overflow:visible\">\n",
        "      <path d=\"M 8.7185878,4.0337352 -2.2072895,0.01601326 8.7185884,-4.0017078 c -1.7454984,2.3720609 -1.7354408,5.6174519 -6e-7,8.035443 z\" id=\"path8071\" inkscape:connector-curvature=\"0\" style=\"fill:#ff0000;fill-rule:evenodd;stroke:#ff0000;stroke-width:0.625;stroke-linejoin:round\" transform=\"matrix(-1.1,0,0,-1.1,-1.1,0)\"/>\n",
        "    </marker>\n",
        "    <marker id=\"Arrow2Lend-1km\" inkscape:stockid=\"Arrow2Lend-1km\" orient=\"auto\" refX=\"0\" refY=\"0\" style=\"overflow:visible\">\n",
        "      <path d=\"M 8.7185878,4.0337352 -2.2072895,0.01601326 8.7185884,-4.0017078 c -1.7454984,2.3720609 -1.7354408,5.6174519 -6e-7,8.035443 z\" id=\"path8196\" inkscape:connector-curvature=\"0\" style=\"fill:#0000ff;fill-rule:evenodd;stroke:#0000ff;stroke-width:0.625;stroke-linejoin:round\" transform=\"matrix(-1.1,0,0,-1.1,-1.1,0)\"/>\n",
        "    </marker>\n",
        "    <marker id=\"Arrow2Lend4X\" inkscape:stockid=\"Arrow2Lend4X\" orient=\"auto\" refX=\"0\" refY=\"0\" style=\"overflow:visible\">\n",
        "      <path d=\"M 8.7185878,4.0337352 -2.2072895,0.01601326 8.7185884,-4.0017078 c -1.7454984,2.3720609 -1.7354408,5.6174519 -6e-7,8.035443 z\" id=\"path8199\" inkscape:connector-curvature=\"0\" style=\"fill:#0000ff;fill-rule:evenodd;stroke:#0000ff;stroke-width:0.625;stroke-linejoin:round\" transform=\"matrix(-1.1,0,0,-1.1,-1.1,0)\"/>\n",
        "    </marker>\n",
        "    <marker id=\"Arrow2Lend4X-8\" inkscape:stockid=\"Arrow2Lend4X\" orient=\"auto\" refX=\"0\" refY=\"0\" style=\"overflow:visible\">\n",
        "      <path d=\"M 8.7185878,4.0337352 -2.2072895,0.01601326 8.7185884,-4.0017078 c -1.7454984,2.3720609 -1.7354408,5.6174519 -6e-7,8.035443 z\" id=\"path8199-5\" inkscape:connector-curvature=\"0\" style=\"fill:#0000ff;fill-rule:evenodd;stroke:#0000ff;stroke-width:0.625;stroke-linejoin:round\" transform=\"matrix(-1.1,0,0,-1.1,-1.1,0)\"/>\n",
        "    </marker>\n",
        "    <marker id=\"Arrow2Lend-1km-9\" inkscape:stockid=\"Arrow2Lend-1km\" orient=\"auto\" refX=\"0\" refY=\"0\" style=\"overflow:visible\">\n",
        "      <path d=\"M 8.7185878,4.0337352 -2.2072895,0.01601326 8.7185884,-4.0017078 c -1.7454984,2.3720609 -1.7354408,5.6174519 -6e-7,8.035443 z\" id=\"path8196-3\" inkscape:connector-curvature=\"0\" style=\"fill:#0000ff;fill-rule:evenodd;stroke:#0000ff;stroke-width:0.625;stroke-linejoin:round\" transform=\"matrix(-1.1,0,0,-1.1,-1.1,0)\"/>\n",
        "    </marker>\n",
        "    <marker id=\"Arrow2Lend4Xq\" inkscape:stockid=\"Arrow2Lend4Xq\" orient=\"auto\" refX=\"0\" refY=\"0\" style=\"overflow:visible\">\n",
        "      <path d=\"M 8.7185878,4.0337352 -2.2072895,0.01601326 8.7185884,-4.0017078 c -1.7454984,2.3720609 -1.7354408,5.6174519 -6e-7,8.035443 z\" id=\"path8390\" inkscape:connector-curvature=\"0\" style=\"fill:#ff0000;fill-rule:evenodd;stroke:#ff0000;stroke-width:0.625;stroke-linejoin:round\" transform=\"matrix(-1.1,0,0,-1.1,-1.1,0)\"/>\n",
        "    </marker>\n",
        "    <marker id=\"Arrow2Lend-1kmM\" inkscape:stockid=\"Arrow2Lend-1kmM\" orient=\"auto\" refX=\"0\" refY=\"0\" style=\"overflow:visible\">\n",
        "      <path d=\"M 8.7185878,4.0337352 -2.2072895,0.01601326 8.7185884,-4.0017078 c -1.7454984,2.3720609 -1.7354408,5.6174519 -6e-7,8.035443 z\" id=\"path8393\" inkscape:connector-curvature=\"0\" style=\"fill:#ff0000;fill-rule:evenodd;stroke:#ff0000;stroke-width:0.625;stroke-linejoin:round\" transform=\"matrix(-1.1,0,0,-1.1,-1.1,0)\"/>\n",
        "    </marker>\n",
        "    <marker id=\"Arrow2Lstart-2\" inkscape:stockid=\"Arrow2Lstart\" orient=\"auto\" refX=\"0\" refY=\"0\" style=\"overflow:visible\">\n",
        "      <path d=\"M 8.7185878,4.0337352 -2.2072895,0.01601326 8.7185884,-4.0017078 c -1.7454984,2.3720609 -1.7354408,5.6174519 -6e-7,8.035443 z\" id=\"path3809-6\" inkscape:connector-curvature=\"0\" style=\"fill-rule:evenodd;stroke-width:0.625;stroke-linejoin:round\" transform=\"matrix(1.1,0,0,1.1,1.1,0)\"/>\n",
        "    </marker>\n",
        "    <marker id=\"Arrow2Lstart-4\" inkscape:stockid=\"Arrow2Lstart\" orient=\"auto\" refX=\"0\" refY=\"0\" style=\"overflow:visible\">\n",
        "      <path d=\"M 8.7185878,4.0337352 -2.2072895,0.01601326 8.7185884,-4.0017078 c -1.7454984,2.3720609 -1.7354408,5.6174519 -6e-7,8.035443 z\" id=\"path3809-2\" inkscape:connector-curvature=\"0\" style=\"fill-rule:evenodd;stroke-width:0.625;stroke-linejoin:round\" transform=\"matrix(1.1,0,0,1.1,1.1,0)\"/>\n",
        "    </marker>\n",
        "  </defs>\n",
        "  <metadata id=\"metadata7\">\n",
        "    <rdf:RDF>\n",
        "      <cc:Work rdf:about=\"\">\n",
        "        <dc:format>image/svg+xml</dc:format>\n",
        "        <dc:type rdf:resource=\"http://purl.org/dc/dcmitype/StillImage\"/>\n",
        "        <dc:title/>\n",
        "      </cc:Work>\n",
        "    </rdf:RDF>\n",
        "  </metadata>\n",
        "  <g id=\"layer1\" inkscape:groupmode=\"layer\" inkscape:label=\"Layer 1\" transform=\"translate(-184.9363,-178.42594)\">\n",
        "    <path d=\"m 357.59401,430.10822 c 0,39.05242 -30.30147,70.71067 -67.68022,70.71067 -37.37876,0 -67.68022,-31.65825 -67.68022,-70.71067 0,-39.05243 30.30146,-70.71068 67.68022,-70.71068 37.37875,0 67.68022,31.65825 67.68022,70.71068 z\" id=\"path2989\" sodipodi:cx=\"289.91379\" sodipodi:cy=\"430.10822\" sodipodi:rx=\"67.680222\" sodipodi:ry=\"70.710678\" sodipodi:type=\"arc\" style=\"fill:#ff0000;fill-rule:evenodd;stroke:#000000;stroke-width:1px;stroke-linecap:butt;stroke-linejoin:miter;stroke-opacity:1\" transform=\"matrix(0.22219926,0,0,0.21267643,384.59418,428.325)\"/>\n",
        "    <path d=\"m 202.92616,204.8442 c 262.86866,0 262.86866,0 262.86866,0\" id=\"path2991\" inkscape:connector-curvature=\"0\" style=\"fill:none;stroke:#000000;stroke-width:3.51907468px;stroke-linecap:butt;stroke-linejoin:miter;stroke-opacity:1\"/>\n",
        "    <path d=\"m 253.532,280.49304 -31.29843,0 -31.29844,0 15.64922,-27.10524 15.64922,-27.10523 15.64921,27.10523 z\" id=\"path2993\" inkscape:flatsided=\"false\" inkscape:randomized=\"0\" inkscape:rounded=\"0\" inkscape:transform-center-y=\"9.0350756\" sodipodi:arg1=\"0.52359878\" sodipodi:arg2=\"1.5707963\" sodipodi:cx=\"222.23357\" sodipodi:cy=\"262.42288\" sodipodi:r1=\"36.140316\" sodipodi:r2=\"18.070158\" sodipodi:sides=\"3\" sodipodi:type=\"star\" style=\"fill:#ffff00;fill-rule:evenodd;stroke:#000000;stroke-width:1px;stroke-linecap:butt;stroke-linejoin:miter;stroke-opacity:1\" transform=\"matrix(-1,0,0,-1,555.58391,486.45996)\"/>\n",
        "    <path d=\"m 339.78704,249.0287 103.5984,256.81995\" id=\"path2997\" inkscape:connection-end=\"#path2989\" inkscape:connection-end-point=\"d4\" inkscape:connection-start=\"#path2993\" inkscape:connection-start-point=\"d4\" inkscape:connector-curvature=\"0\" inkscape:connector-type=\"polyline\" style=\"fill:none;stroke:#000000;stroke-width:2;stroke-linecap:butt;stroke-linejoin:miter;stroke-miterlimit:4;stroke-opacity:1;stroke-dasharray:none\"/>\n",
        "    <text id=\"text4793\" sodipodi:linespacing=\"125%\" style=\"font-size:40px;font-style:normal;font-weight:normal;line-height:125%;letter-spacing:0px;word-spacing:0px;fill:#000000;fill-opacity:1;stroke:none;font-family:Sans\" x=\"405.85715\" xml:space=\"preserve\" y=\"413.79074\"><tspan id=\"tspan4795\" sodipodi:role=\"line\" x=\"405.85715\" y=\"413.79074\">L</tspan></text>\n",
        "    <text id=\"text4797\" sodipodi:linespacing=\"125%\" style=\"font-size:40px;font-style:normal;font-weight:normal;line-height:125%;letter-spacing:0px;word-spacing:0px;fill:#000000;fill-opacity:1;stroke:none;font-family:Sans\" x=\"467.71429\" xml:space=\"preserve\" y=\"531.36218\"><tspan id=\"tspan4799\" sodipodi:role=\"line\" x=\"467.71429\" y=\"531.36218\">m</tspan></text>\n",
        "    <text id=\"text5019\" sodipodi:linespacing=\"125%\" style=\"font-size:40px;font-style:normal;font-weight:normal;line-height:125%;letter-spacing:0px;word-spacing:0px;fill:#000000;fill-opacity:1;stroke:none;font-family:Sans\" x=\"530.71423\" xml:space=\"preserve\" y=\"302.36218\"><tspan id=\"tspan5021\" sodipodi:role=\"line\" x=\"530.71423\" y=\"302.36218\">g</tspan></text>\n",
        "    <rect height=\"29.007917\" id=\"rect5023\" rx=\"0\" ry=\"0\" style=\"fill:url(#pattern6485);fill-opacity:1;stroke:none\" transform=\"matrix(1,0,0.72381295,0.68999624,0,0)\" width=\"251.274\" x=\"-2.4793456\" y=\"265.83615\"/>\n",
        "    <text id=\"text6597\" sodipodi:linespacing=\"125%\" style=\"font-size:40px;font-style:normal;font-weight:normal;line-height:125%;letter-spacing:0px;word-spacing:0px;fill:#000000;fill-opacity:1;stroke:none;font-family:Sans\" x=\"361.93631\" xml:space=\"preserve\" y=\"499.35422\"><tspan id=\"tspan6599\" sodipodi:role=\"line\" x=\"361.93631\" y=\"499.35422\">q<tspan id=\"tspan6601\" style=\"font-size:65.00091553%;baseline-shift:sub\">1</tspan></tspan></text>\n",
        "    <path d=\"m 520.9149,264.05894 0,92.49758\" id=\"path4827-4\" inkscape:connector-curvature=\"0\" style=\"fill:none;stroke:#000000;stroke-width:1.21877503;stroke-linecap:butt;stroke-linejoin:miter;stroke-miterlimit:4;stroke-opacity:1;stroke-dasharray:none;marker-end:url(#Arrow2Lend)\"/>\n",
        "    <g id=\"g8297\" transform=\"translate(-120,-14)\">\n",
        "      <path d=\"m 333.2704,243.61034 0,56.62207\" id=\"path4827-70\" inkscape:connector-curvature=\"0\" style=\"fill:none;stroke:#0000ff;stroke-width:1.53423667;stroke-linecap:butt;stroke-linejoin:miter;stroke-miterlimit:4;stroke-opacity:1;stroke-dasharray:none;marker-end:url(#Arrow2Lend4X)\"/>\n",
        "      <path d=\"m 333.2074,243.13275 56.19646,0\" id=\"path4827-9-6\" inkscape:connector-curvature=\"0\" style=\"fill:none;stroke:#0000ff;stroke-width:1.65040851;stroke-linecap:butt;stroke-linejoin:miter;stroke-miterlimit:4;stroke-opacity:1;stroke-dasharray:none;marker-end:url(#Arrow2Lend-1km)\"/>\n",
        "    </g>\n",
        "    <text id=\"text8301\" sodipodi:linespacing=\"125%\" style=\"font-size:40px;font-style:normal;font-weight:normal;line-height:125%;letter-spacing:0px;word-spacing:0px;fill:#000000;fill-opacity:1;stroke:none;font-family:Sans\" x=\"216.93629\" xml:space=\"preserve\" y=\"299.35422\"><tspan id=\"tspan8303\" sodipodi:role=\"line\" style=\"font-size:24px\" x=\"216.93629\" y=\"299.35422\">N<tspan id=\"tspan8571\" style=\"font-size:65.00091553%;baseline-shift:sub\">x</tspan></tspan></text>\n",
        "    <text id=\"text8307\" sodipodi:linespacing=\"125%\" style=\"font-size:40px;font-style:normal;font-weight:normal;line-height:125%;letter-spacing:0px;word-spacing:0px;fill:#000000;fill-opacity:1;stroke:none;font-family:Sans\" x=\"247.93631\" xml:space=\"preserve\" y=\"258.35422\"><tspan id=\"tspan8309\" sodipodi:role=\"line\" style=\"font-size:24px\" x=\"247.93631\" y=\"258.35422\">N<tspan id=\"tspan8569\" style=\"font-size:65.00091553%;baseline-shift:sub\">y</tspan></tspan></text>\n",
        "    <path d=\"m 335.39519,236.31191 20.29154,52.86126\" id=\"path4827-70-2\" inkscape:connector-curvature=\"0\" style=\"fill:none;stroke:#ff0000;stroke-width:1.53423667;stroke-linecap:butt;stroke-linejoin:miter;stroke-miterlimit:4;stroke-opacity:1;stroke-dasharray:none;marker-end:url(#Arrow2Lend4Xq)\"/>\n",
        "    <path d=\"m 335.16523,235.88862 52.46391,-20.13901\" id=\"path4827-9-6-9\" inkscape:connector-curvature=\"0\" style=\"fill:none;stroke:#ff0000;stroke-width:1.65040851;stroke-linecap:butt;stroke-linejoin:miter;stroke-miterlimit:4;stroke-opacity:1;stroke-dasharray:none;marker-end:url(#Arrow2Lend-1kmM)\"/>\n",
        "    <text id=\"text8301-7\" sodipodi:linespacing=\"125%\" style=\"font-size:40px;font-style:normal;font-weight:normal;line-height:125%;letter-spacing:0px;word-spacing:0px;fill:#000000;fill-opacity:1;stroke:none;font-family:Sans\" x=\"361.07303\" xml:space=\"preserve\" y=\"284.70227\"><tspan id=\"tspan8303-9\" sodipodi:role=\"line\" style=\"font-size:24px\" x=\"361.07303\" y=\"284.70227\">A<tspan id=\"tspan8567\" style=\"font-size:65.00091553%;baseline-shift:sub\">x</tspan></tspan></text>\n",
        "    <text id=\"text8307-4\" sodipodi:linespacing=\"125%\" style=\"font-size:40px;font-style:normal;font-weight:normal;line-height:125%;letter-spacing:0px;word-spacing:0px;fill:#000000;fill-opacity:1;stroke:none;font-family:Sans\" x=\"386.03787\" xml:space=\"preserve\" y=\"235.20618\"><tspan id=\"tspan8309-7\" sodipodi:role=\"line\" style=\"font-size:24px\" x=\"386.03787\" y=\"235.20618\">A<tspan id=\"tspan8565\" style=\"font-size:65.00091553%;baseline-shift:sub\">y</tspan></tspan></text>\n",
        "    <path d=\"m 520.11084,512.98418 c -14.91916,5.78676 -30.7279,8.94566 -46.72524,9.33662\" id=\"path3785\" sodipodi:cx=\"470\" sodipodi:cy=\"383.79074\" sodipodi:end=\"1.5463617\" sodipodi:open=\"true\" sodipodi:rx=\"138.57143\" sodipodi:ry=\"138.57143\" sodipodi:start=\"1.2007865\" sodipodi:type=\"arc\" style=\"fill:none;stroke:#000000;stroke-width:1.49994314;stroke-miterlimit:4;stroke-opacity:1;stroke-dasharray:none;stroke-dashoffset:0;marker-start:url(#Arrow2Lstart);marker-end:none\" transform=\"matrix(1.5707216,0,0,1.6326654,-402.16738,-380.32792)\"/>\n",
        "    <path d=\"m 577.53786,471.18439 c -23.97211,29.49767 -59.00862,47.85327 -96.90679,50.76937\" id=\"path3785-5\" sodipodi:cx=\"470\" sodipodi:cy=\"383.79074\" sodipodi:end=\"1.4940018\" sodipodi:open=\"true\" sodipodi:rx=\"138.57143\" sodipodi:ry=\"138.57143\" sodipodi:start=\"0.68242374\" sodipodi:type=\"arc\" style=\"fill:none;stroke:#000000;stroke-width:2.57029223;stroke-miterlimit:4;stroke-opacity:1;stroke-dasharray:none;stroke-dashoffset:0;marker-start:url(#Arrow2Lstart);marker-end:none\" transform=\"matrix(0.58676057,0,0,0.58043896,62.244133,29.528251)\"/>\n",
        "    <path d=\"m 333.10089,263.9655 -2.32918,287.77744\" id=\"path3009\" inkscape:connector-curvature=\"0\" style=\"fill:none;stroke:#000000;stroke-width:1.30337703;stroke-linecap:butt;stroke-linejoin:miter;stroke-miterlimit:4;stroke-opacity:1;stroke-dasharray:15.64052536, 15.64052536;stroke-dashoffset:0\"/>\n",
        "    <text id=\"text4787\" sodipodi:linespacing=\"125%\" style=\"font-size:40px;font-style:normal;font-weight:normal;line-height:125%;letter-spacing:0px;word-spacing:0px;fill:#000000;fill-opacity:1;stroke:none;font-family:Sans\" x=\"402.47037\" xml:space=\"preserve\" y=\"328.55539\"><tspan id=\"tspan4789\" sodipodi:role=\"line\" x=\"402.47037\" y=\"328.55539\">u<tspan id=\"tspan4791\" style=\"font-size:65.00091553%;baseline-shift:sub\">1</tspan></tspan></text>\n",
        "  </g>\n",
        "</svg>"
       ],
       "text": [
        "<IPython.core.display.SVG at 0x7fc44905a0b8>"
       ]
      }
     ],
     "prompt_number": 1
    },
    {
     "cell_type": "code",
     "collapsed": false,
     "input": [
      "# Import required functionality\n",
      "from sympy import symbols, sin, cos, atan, simplify, solve, Matrix\n",
      "from sympy.physics.mechanics import *"
     ],
     "language": "python",
     "metadata": {},
     "outputs": [],
     "prompt_number": 2
    },
    {
     "cell_type": "markdown",
     "metadata": {},
     "source": [
      "For a simple pendulum, the system has one degree of freedom, so only one generalized coordinate is needed.  In this case, we'll choose the angle off vertical ($q_1$). To make things simple, the generalized speed will be the angular velocity of the pendulum, which is just the derivative of this coordinate ($u_1 = \\dot{q_1}$)."
     ]
    },
    {
     "cell_type": "code",
     "collapsed": false,
     "input": [
      "# Create generalized coordinate and speed variables. The `dynamicsymbols` \n",
      "# function creates each symbol as a function of time (i.e. q1 = q1(t))\n",
      "\n",
      "q1 = dynamicsymbols('q1')                     # Generalized coordinate: angle of pendulum\n",
      "q1d = dynamicsymbols('q1', 1)                 # Derivative of generalized coordinate\n",
      "u1 = dynamicsymbols('u1')                     # Generalized speed: angular velocity of pendulum\n",
      "u1d = dynamicsymbols('u1', 1)                 # Derivative of generalized speed\n",
      "\n",
      "# `symbols` is used for things that are constant, not functions of other\n",
      "# variables.\n",
      "\n",
      "t = symbols('t')                              # We need t later to take derivatives with respect to time\n",
      "L = symbols('L')                              # Length of the pendulum\n",
      "m = symbols('m')                              # Mass of the pendulum\n",
      "g = 9.8;                                      # Gravity"
     ],
     "language": "python",
     "metadata": {},
     "outputs": [],
     "prompt_number": 3
    },
    {
     "cell_type": "markdown",
     "metadata": {},
     "source": [
      "First we need to create the world reference frame $N$ and its origin $N^*$"
     ]
    },
    {
     "cell_type": "code",
     "collapsed": false,
     "input": [
      "N = ReferenceFrame('N')\n",
      "pN = Point('N*')\n",
      "# Set the velocity of the origin to 0, as it's not moving\n",
      "pN.set_vel(N, 0)"
     ],
     "language": "python",
     "metadata": {},
     "outputs": [],
     "prompt_number": 4
    },
    {
     "cell_type": "markdown",
     "metadata": {},
     "source": [
      "Next, a rotating reference frame $A$ is created, attached to the pendulum. The rotation of this frame is $q_1$ about the $N_z$ axis, with an angular velocity of $\\dot{q}_1 = u_1$. The location of the pendulum mass point $P$ can then be set as $r^{P/N^*} = L \\hat{a}_x$."
     ]
    },
    {
     "cell_type": "code",
     "collapsed": false,
     "input": [
      "# Create and orient reference frame A, and set its angular velocity\n",
      "A = N.orientnew('A', 'axis', [q1, N.z])\n",
      "A.set_ang_vel(N, u1*N.z)\n",
      "# Locate point P relative to the origin N*\n",
      "P = pN.locatenew('P', L*A.x)"
     ],
     "language": "python",
     "metadata": {},
     "outputs": [],
     "prompt_number": 5
    },
    {
     "cell_type": "markdown",
     "metadata": {},
     "source": [
      "The velocity of the point P can then be found:"
     ]
    },
    {
     "cell_type": "code",
     "collapsed": false,
     "input": [
      "# Calculate velocity at the point\n",
      "P.v2pt_theory(pN, N, A)"
     ],
     "language": "python",
     "metadata": {},
     "outputs": [
      {
       "metadata": {},
       "output_type": "pyout",
       "prompt_number": 6,
       "text": [
        "L*u1*A.y"
       ]
      }
     ],
     "prompt_number": 6
    },
    {
     "cell_type": "markdown",
     "metadata": {},
     "source": [
      "Next we solve for the kinematic differential equations (KDE) for the system. These relate the derivatives of the generalized coordinates to the generalized velocities by\n",
      "\n",
      "$$ kde(q, \\dot{q}, u, t) = 0 $$\n",
      "\n",
      "For this system, since the generalized speed is just the derivative of the generalized coordinates, the KDEs are rather simple:"
     ]
    },
    {
     "cell_type": "code",
     "collapsed": false,
     "input": [
      "# Create Kinematic Differential Equations\n",
      "kde = Matrix([q1d - u1])\n",
      "\n",
      "# Solve for d/dt q in terms of u. This will be used throughout to eliminate\n",
      "# d/dt q from the equations\n",
      "dq_dict = solve(kde, [q1d])"
     ],
     "language": "python",
     "metadata": {},
     "outputs": [],
     "prompt_number": 7
    },
    {
     "cell_type": "markdown",
     "metadata": {},
     "source": [
      "Kane's method uses the partial derivative of the velocity of each point/body with respect to each generalized speed. In our case, with only one point and speed this is just a single value:"
     ]
    },
    {
     "cell_type": "code",
     "collapsed": false,
     "input": [
      "# Calculate Partial velocity at the point\n",
      "# This command chain in english is:\n",
      "# \"The velocity of P in frame N, with each d/dt q replaced by expression in terms of u,\n",
      "# differentiated in terms of u_1 in frame N.\"\n",
      "\n",
      "v1_p = P.vel(N).subs(dq_dict).diff(u1, N)"
     ],
     "language": "python",
     "metadata": {},
     "outputs": [],
     "prompt_number": 8
    },
    {
     "cell_type": "markdown",
     "metadata": {},
     "source": [
      "Next we input the resultant at each point of all forces acting on that point. For the pendulum, this is just gravity acting on the mass in the $N_x$ direction."
     ]
    },
    {
     "cell_type": "code",
     "collapsed": false,
     "input": [
      "# Input the force resultant at P\n",
      "R = m*g*N.x"
     ],
     "language": "python",
     "metadata": {},
     "outputs": [],
     "prompt_number": 9
    },
    {
     "cell_type": "markdown",
     "metadata": {},
     "source": [
      "The generalized active forces are then found by the following expression:\n",
      "\n",
      "$$F_r = \\sum_{i=1}^v v_r^{P_i} \\cdot R_i \\quad (r = 1, ..., n)$$\n",
      "\n",
      "These form the \"***F***\" part of Newton's second law (***F = ma***). In this case, n = 1, v = 1, so $F_1$ is then:"
     ]
    },
    {
     "cell_type": "code",
     "collapsed": false,
     "input": [
      "# Solve for F1:\n",
      "F1 = v1_p.dot(R)"
     ],
     "language": "python",
     "metadata": {},
     "outputs": [],
     "prompt_number": 10
    },
    {
     "cell_type": "markdown",
     "metadata": {},
     "source": [
      "Next we need to solve for the generalized inertial forces. This is the \"***ma***\" part in Newton's second law. To do this, we first need to find the acceleration of the pendulum point."
     ]
    },
    {
     "cell_type": "code",
     "collapsed": false,
     "input": [
      "# Solve for accelerations at the point\n",
      "a = P.acc(N)"
     ],
     "language": "python",
     "metadata": {},
     "outputs": [],
     "prompt_number": 11
    },
    {
     "cell_type": "markdown",
     "metadata": {},
     "source": [
      "The inertial force $R^*$ for the point is then"
     ]
    },
    {
     "cell_type": "code",
     "collapsed": false,
     "input": [
      "# Solve for generalized inertial forces\n",
      "R_star = -m*a"
     ],
     "language": "python",
     "metadata": {},
     "outputs": [],
     "prompt_number": 12
    },
    {
     "cell_type": "markdown",
     "metadata": {},
     "source": [
      "The generalized inertial forces are then found by the following expression:\n",
      "    \n",
      "$$ F_r^* = \\sum_{i=1}^v v_r^{P_i} \\cdot R_i^* \\quad (r = 1, ..., n)$$\n",
      "\n",
      "As before, n = 1, v = 1, so $F_1^*$ is then:"
     ]
    },
    {
     "cell_type": "code",
     "collapsed": false,
     "input": [
      "# Solve for F1_star\n",
      "F1_star = v1_p.dot(R_star)"
     ],
     "language": "python",
     "metadata": {},
     "outputs": [],
     "prompt_number": 13
    },
    {
     "cell_type": "markdown",
     "metadata": {},
     "source": [
      "Kanes equations for the dynamic differential equations are then\n",
      "\n",
      "$$ F_r + F_r^* = 0 \\quad (r = 1, ... , n) $$"
     ]
    },
    {
     "cell_type": "code",
     "collapsed": false,
     "input": [
      "# Solve for the dynamic differential equations\n",
      "dyn_eqs = Matrix([F1_star + F1]).subs(dq_dict)"
     ],
     "language": "python",
     "metadata": {},
     "outputs": [],
     "prompt_number": 14
    },
    {
     "cell_type": "markdown",
     "metadata": {},
     "source": [
      "Combining the kinematic differential equations with the dynamic differential equations yields a system with 2 unknowns ($\\dot{q}_1$ and $\\dot{u}_1$), and 2 equations. Thus, it can be solved."
     ]
    },
    {
     "cell_type": "code",
     "collapsed": false,
     "input": [
      "# The equations of motion are composed of the kinematic differential equations,\n",
      "# and the dynamic differential equations.\n",
      "eom = Matrix([kde,\n",
      "              dyn_eqs])\n",
      "mprint(eom)"
     ],
     "language": "python",
     "metadata": {},
     "outputs": [
      {
       "output_type": "stream",
       "stream": "stdout",
       "text": [
        "Matrix([\n",
        "[                    -u1 + q1'],\n",
        "[-L**2*m*u1' - 9.8*L*m*sin(q1)]])\n"
       ]
      }
     ],
     "prompt_number": 15
    },
    {
     "cell_type": "code",
     "collapsed": false,
     "input": [
      "# Solving the equations of motion for q1' and u1'\n",
      "sols = solve(eom, [q1d, u1d])"
     ],
     "language": "python",
     "metadata": {},
     "outputs": [],
     "prompt_number": 16
    },
    {
     "cell_type": "code",
     "collapsed": false,
     "input": [
      "# Recomposing the system into a first order differential equation\n",
      "qudots = Matrix([sols[q1d],\n",
      "                 sols[u1d]])\n",
      "qudots.simplify()\n",
      "mprint(qudots)"
     ],
     "language": "python",
     "metadata": {},
     "outputs": [
      {
       "output_type": "stream",
       "stream": "stdout",
       "text": [
        "Matrix([\n",
        "[            u1],\n",
        "[-9.8*sin(q1)/L]])\n"
       ]
      }
     ],
     "prompt_number": 17
    },
    {
     "cell_type": "markdown",
     "metadata": {},
     "source": [
      "Thus, the final form for the equations of motion is:\n",
      "\n",
      "$$ \\begin{bmatrix} \\dot{q}_1 \\\\ \\dot{u}_1 \\end{bmatrix} = \\begin{bmatrix} u_1 \\\\ \\frac{-9.8}{L} sin(q_1) \\end{bmatrix} $$\n",
      "\n"
     ]
    },
    {
     "cell_type": "markdown",
     "metadata": {},
     "source": [
      "As I'm still just learning Kane's method myself, the above derivation isn't very explanatory. I plan on making a post better explaining the procedure once I get the hang of it better. Luckily, Sympy contains a `KanesMethod` class that crunches all the above math for you."
     ]
    },
    {
     "cell_type": "markdown",
     "metadata": {},
     "source": [
      "## Using Kanes Method Class"
     ]
    },
    {
     "cell_type": "markdown",
     "metadata": {},
     "source": [
      "Continuing with what was already derived above, all that needs to be done is create a `Particle` object for the pendulum mass, and then create a `KanesMethod` object with the forces and bodies derived above. I won't go too in depth on these steps, as we're just replicating what was done above using the easy functionality provided by `sympy.physics.mechanics`."
     ]
    },
    {
     "cell_type": "code",
     "collapsed": false,
     "input": [
      "# Create a particle object representing the pendulum mass\n",
      "pP = Particle('pP', P, m)\n",
      "# Create a KanesMethod object. This takes the global reference frame N,\n",
      "# the independent coordinates (q1), the independent velocities (q2), and\n",
      "# the Kinematic equations derived above (kde)\n",
      "KM = KanesMethod(N, q_ind=[q1], u_ind=[u1], kd_eqs=kde)"
     ],
     "language": "python",
     "metadata": {},
     "outputs": [],
     "prompt_number": 18
    },
    {
     "cell_type": "code",
     "collapsed": false,
     "input": [
      "# Make a list of tuples of the form (Particle/Body, Force on Particle/Body)\n",
      "FL = [(P, R)]\n",
      "# Make a list of Particles/Bodies in the system\n",
      "BL = [pP]\n",
      "# Derive the generalized active forces, and the generalized inertial forces\n",
      "(fr, frstar) = KM.kanes_equations(FL, BL)"
     ],
     "language": "python",
     "metadata": {},
     "outputs": [],
     "prompt_number": 19
    },
    {
     "cell_type": "code",
     "collapsed": false,
     "input": [
      "# Solve for the equations of motion in first order form.\n",
      "# What's happening here is the mass matrix (M) and the forcing\n",
      "# matrix (F) are being solved for. This results in a system of\n",
      "# equations of the form M*[q', u']^T = F.\n",
      "kdd = KM.kindiffdict()\n",
      "mm = KM.mass_matrix_full\n",
      "fo = KM.forcing_full\n",
      "\n",
      "# The final first order form is then solved for as\n",
      "# [q', u']^T = M^-1 * F.\n",
      "qudots_km = mm.inv() * fo\n",
      "qudots_km = qudots_km.subs(kdd)\n",
      "qudots_km.simplify()\n",
      "mprint(qudots_km)"
     ],
     "language": "python",
     "metadata": {},
     "outputs": [
      {
       "output_type": "stream",
       "stream": "stdout",
       "text": [
        "Matrix([\n",
        "[            u1],\n",
        "[-9.8*sin(q1)/L]])\n"
       ]
      }
     ],
     "prompt_number": 20
    },
    {
     "cell_type": "markdown",
     "metadata": {},
     "source": [
      "As seen here, the results match what was solved for above by hand, but in a much easier manner using the methods provided in Sympy."
     ]
    },
    {
     "cell_type": "markdown",
     "metadata": {},
     "source": [
      "# Non-minimal set of coordinates"
     ]
    },
    {
     "cell_type": "markdown",
     "metadata": {},
     "source": [
      "The pendulum system demonstrated above is extremely simple, and a minimal set of coordinates and speeds readily found. But for more complicated systems it's often not that easy to find a such a minimal representation. In these cases additional coordinates and speeds are used, and an additional set of *constraint equations* are added relating the coordinates and speeds together.\n",
      "\n",
      "To demonstrate this, the pendulum system will be re-derived using the x and y coordinates of the mass as generalized coordinates, and their derivatives as the generalized speeds. While you would never do this in practice (it makes the problem much harder), it should be a good demonstration of both configuration and velocity constraints."
     ]
    },
    {
     "cell_type": "code",
     "collapsed": false,
     "input": [
      "from IPython.display import SVG\n",
      "SVG(filename='Pendulum_NonMin_Coord.svg')"
     ],
     "language": "python",
     "metadata": {},
     "outputs": [
      {
       "metadata": {},
       "output_type": "pyout",
       "prompt_number": 21,
       "svg": [
        "<svg height=\"456.13843\" id=\"svg2\" inkscape:version=\"0.48.4 r9939\" sodipodi:docname=\"Pendulum_NonMin_Coord.svg\" version=\"1.1\" width=\"378.90466\" xmlns=\"http://www.w3.org/2000/svg\" xmlns:cc=\"http://creativecommons.org/ns#\" xmlns:dc=\"http://purl.org/dc/elements/1.1/\" xmlns:inkscape=\"http://www.inkscape.org/namespaces/inkscape\" xmlns:rdf=\"http://www.w3.org/1999/02/22-rdf-syntax-ns#\" xmlns:sodipodi=\"http://sodipodi.sourceforge.net/DTD/sodipodi-0.dtd\" xmlns:svg=\"http://www.w3.org/2000/svg\" xmlns:xlink=\"http://www.w3.org/1999/xlink\">\n",
        "  <sodipodi:namedview bordercolor=\"#666666\" borderopacity=\"1.0\" fit-margin-bottom=\"5\" fit-margin-left=\"5\" fit-margin-right=\"5\" fit-margin-top=\"5\" id=\"base\" inkscape:current-layer=\"layer1\" inkscape:cx=\"115.27797\" inkscape:cy=\"187.91648\" inkscape:document-units=\"px\" inkscape:pageopacity=\"0.0\" inkscape:pageshadow=\"2\" inkscape:window-height=\"693\" inkscape:window-maximized=\"1\" inkscape:window-width=\"1366\" inkscape:window-x=\"0\" inkscape:window-y=\"23\" inkscape:zoom=\"1\" pagecolor=\"#ffffff\" showgrid=\"false\"/>\n",
        "  <defs id=\"defs4\">\n",
        "    <pattern id=\"pattern6485\" inkscape:collect=\"always\" patternTransform=\"matrix(1.4782083,0,0,12.709288,204.03947,0)\" xlink:href=\"#Strips1_4\"/>\n",
        "    <pattern height=\"1\" id=\"Strips1_4\" inkscape:collect=\"always\" inkscape:stockid=\"Stripes 1:4\" patternTransform=\"translate(0,0) scale(10,10)\" patternUnits=\"userSpaceOnUse\" width=\"5\">\n",
        "      <rect height=\"2\" id=\"rect5768\" style=\"fill:black;stroke:none\" width=\"1\" x=\"0\" y=\"-0.5\"/>\n",
        "    </pattern>\n",
        "    <marker id=\"Arrow2Lend\" inkscape:stockid=\"Arrow2Lend\" orient=\"auto\" refX=\"0\" refY=\"0\" style=\"overflow:visible\">\n",
        "      <path d=\"M 8.7185878,4.0337352 -2.2072895,0.01601326 8.7185884,-4.0017078 c -1.7454984,2.3720609 -1.7354408,5.6174519 -6e-7,8.035443 z\" id=\"path3812\" inkscape:connector-curvature=\"0\" style=\"fill-rule:evenodd;stroke-width:0.625;stroke-linejoin:round\" transform=\"matrix(-1.1,0,0,-1.1,-1.1,0)\"/>\n",
        "    </marker>\n",
        "    <marker id=\"Arrow2Lstart\" inkscape:stockid=\"Arrow2Lstart\" orient=\"auto\" refX=\"0\" refY=\"0\" style=\"overflow:visible\">\n",
        "      <path d=\"M 8.7185878,4.0337352 -2.2072895,0.01601326 8.7185884,-4.0017078 c -1.7454984,2.3720609 -1.7354408,5.6174519 -6e-7,8.035443 z\" id=\"path3809\" inkscape:connector-curvature=\"0\" style=\"fill-rule:evenodd;stroke-width:0.625;stroke-linejoin:round\" transform=\"matrix(1.1,0,0,1.1,1.1,0)\"/>\n",
        "    </marker>\n",
        "    <marker id=\"Arrow1Lstart\" inkscape:stockid=\"Arrow1Lstart\" orient=\"auto\" refX=\"0\" refY=\"0\" style=\"overflow:visible\">\n",
        "      <path d=\"M 0,0 5,-5 -12.5,0 5,5 0,0 z\" id=\"path3791\" inkscape:connector-curvature=\"0\" style=\"fill-rule:evenodd;stroke:#000000;stroke-width:1pt\" transform=\"matrix(0.8,0,0,0.8,10,0)\"/>\n",
        "    </marker>\n",
        "    <marker id=\"Arrow2Lstart-8\" inkscape:stockid=\"Arrow2Lstart\" orient=\"auto\" refX=\"0\" refY=\"0\" style=\"overflow:visible\">\n",
        "      <path d=\"M 8.7185878,4.0337352 -2.2072895,0.01601326 8.7185884,-4.0017078 c -1.7454984,2.3720609 -1.7354408,5.6174519 -6e-7,8.035443 z\" id=\"path3809-7\" inkscape:connector-curvature=\"0\" style=\"fill-rule:evenodd;stroke-width:0.625;stroke-linejoin:round\" transform=\"matrix(1.1,0,0,1.1,1.1,0)\"/>\n",
        "    </marker>\n",
        "    <marker id=\"Arrow2Lend-7\" inkscape:stockid=\"Arrow2Lend\" orient=\"auto\" refX=\"0\" refY=\"0\" style=\"overflow:visible\">\n",
        "      <path d=\"M 8.7185878,4.0337352 -2.2072895,0.01601326 8.7185884,-4.0017078 c -1.7454984,2.3720609 -1.7354408,5.6174519 -6e-7,8.035443 z\" id=\"path3812-7\" inkscape:connector-curvature=\"0\" style=\"fill-rule:evenodd;stroke-width:0.625;stroke-linejoin:round\" transform=\"matrix(-1.1,0,0,-1.1,-1.1,0)\"/>\n",
        "    </marker>\n",
        "    <marker id=\"Arrow2Lend-8\" inkscape:stockid=\"Arrow2Lend\" orient=\"auto\" refX=\"0\" refY=\"0\" style=\"overflow:visible\">\n",
        "      <path d=\"M 8.7185878,4.0337352 -2.2072895,0.01601326 8.7185884,-4.0017078 c -1.7454984,2.3720609 -1.7354408,5.6174519 -6e-7,8.035443 z\" id=\"path3812-74\" inkscape:connector-curvature=\"0\" style=\"fill-rule:evenodd;stroke-width:0.625;stroke-linejoin:round\" transform=\"matrix(-1.1,0,0,-1.1,-1.1,0)\"/>\n",
        "    </marker>\n",
        "    <marker id=\"Arrow2Lend-3\" inkscape:stockid=\"Arrow2Lend\" orient=\"auto\" refX=\"0\" refY=\"0\" style=\"overflow:visible\">\n",
        "      <path d=\"M 8.7185878,4.0337352 -2.2072895,0.01601326 8.7185884,-4.0017078 c -1.7454984,2.3720609 -1.7354408,5.6174519 -6e-7,8.035443 z\" id=\"path3812-8\" inkscape:connector-curvature=\"0\" style=\"fill-rule:evenodd;stroke-width:0.625;stroke-linejoin:round\" transform=\"matrix(-1.1,0,0,-1.1,-1.1,0)\"/>\n",
        "    </marker>\n",
        "    <marker id=\"Arrow2Lend-6\" inkscape:stockid=\"Arrow2Lend\" orient=\"auto\" refX=\"0\" refY=\"0\" style=\"overflow:visible\">\n",
        "      <path d=\"M 8.7185878,4.0337352 -2.2072895,0.01601326 8.7185884,-4.0017078 c -1.7454984,2.3720609 -1.7354408,5.6174519 -6e-7,8.035443 z\" id=\"path3812-4\" inkscape:connector-curvature=\"0\" style=\"fill-rule:evenodd;stroke-width:0.625;stroke-linejoin:round\" transform=\"matrix(-1.1,0,0,-1.1,-1.1,0)\"/>\n",
        "    </marker>\n",
        "    <marker id=\"Arrow2Lend-5\" inkscape:stockid=\"Arrow2Lend\" orient=\"auto\" refX=\"0\" refY=\"0\" style=\"overflow:visible\">\n",
        "      <path d=\"M 8.7185878,4.0337352 -2.2072895,0.01601326 8.7185884,-4.0017078 c -1.7454984,2.3720609 -1.7354408,5.6174519 -6e-7,8.035443 z\" id=\"path3812-9\" inkscape:connector-curvature=\"0\" style=\"fill-rule:evenodd;stroke-width:0.625;stroke-linejoin:round\" transform=\"matrix(-1.1,0,0,-1.1,-1.1,0)\"/>\n",
        "    </marker>\n",
        "    <marker id=\"Arrow2Lend-1\" inkscape:stockid=\"Arrow2Lend\" orient=\"auto\" refX=\"0\" refY=\"0\" style=\"overflow:visible\">\n",
        "      <path d=\"M 8.7185878,4.0337352 -2.2072895,0.01601326 8.7185884,-4.0017078 c -1.7454984,2.3720609 -1.7354408,5.6174519 -6e-7,8.035443 z\" id=\"path3812-90\" inkscape:connector-curvature=\"0\" style=\"fill-rule:evenodd;stroke-width:0.625;stroke-linejoin:round\" transform=\"matrix(-1.1,0,0,-1.1,-1.1,0)\"/>\n",
        "    </marker>\n",
        "    <marker id=\"Arrow2Lend-1k\" inkscape:stockid=\"Arrow2Lend-1k\" orient=\"auto\" refX=\"0\" refY=\"0\" style=\"overflow:visible\">\n",
        "      <path d=\"M 8.7185878,4.0337352 -2.2072895,0.01601326 8.7185884,-4.0017078 c -1.7454984,2.3720609 -1.7354408,5.6174519 -6e-7,8.035443 z\" id=\"path7949\" inkscape:connector-curvature=\"0\" style=\"fill:#ff0000;fill-rule:evenodd;stroke:#ff0000;stroke-width:0.625;stroke-linejoin:round\" transform=\"matrix(-1.1,0,0,-1.1,-1.1,0)\"/>\n",
        "    </marker>\n",
        "    <marker id=\"Arrow2Lend4\" inkscape:stockid=\"Arrow2Lend4\" orient=\"auto\" refX=\"0\" refY=\"0\" style=\"overflow:visible\">\n",
        "      <path d=\"M 8.7185878,4.0337352 -2.2072895,0.01601326 8.7185884,-4.0017078 c -1.7454984,2.3720609 -1.7354408,5.6174519 -6e-7,8.035443 z\" id=\"path8071\" inkscape:connector-curvature=\"0\" style=\"fill:#ff0000;fill-rule:evenodd;stroke:#ff0000;stroke-width:0.625;stroke-linejoin:round\" transform=\"matrix(-1.1,0,0,-1.1,-1.1,0)\"/>\n",
        "    </marker>\n",
        "    <marker id=\"Arrow2Lend-1km\" inkscape:stockid=\"Arrow2Lend-1km\" orient=\"auto\" refX=\"0\" refY=\"0\" style=\"overflow:visible\">\n",
        "      <path d=\"M 8.7185878,4.0337352 -2.2072895,0.01601326 8.7185884,-4.0017078 c -1.7454984,2.3720609 -1.7354408,5.6174519 -6e-7,8.035443 z\" id=\"path8196\" inkscape:connector-curvature=\"0\" style=\"fill:#0000ff;fill-rule:evenodd;stroke:#0000ff;stroke-width:0.625;stroke-linejoin:round\" transform=\"matrix(-1.1,0,0,-1.1,-1.1,0)\"/>\n",
        "    </marker>\n",
        "    <marker id=\"Arrow2Lend4X\" inkscape:stockid=\"Arrow2Lend4X\" orient=\"auto\" refX=\"0\" refY=\"0\" style=\"overflow:visible\">\n",
        "      <path d=\"M 8.7185878,4.0337352 -2.2072895,0.01601326 8.7185884,-4.0017078 c -1.7454984,2.3720609 -1.7354408,5.6174519 -6e-7,8.035443 z\" id=\"path8199\" inkscape:connector-curvature=\"0\" style=\"fill:#0000ff;fill-rule:evenodd;stroke:#0000ff;stroke-width:0.625;stroke-linejoin:round\" transform=\"matrix(-1.1,0,0,-1.1,-1.1,0)\"/>\n",
        "    </marker>\n",
        "    <marker id=\"Arrow2Lend4X-8\" inkscape:stockid=\"Arrow2Lend4X\" orient=\"auto\" refX=\"0\" refY=\"0\" style=\"overflow:visible\">\n",
        "      <path d=\"M 8.7185878,4.0337352 -2.2072895,0.01601326 8.7185884,-4.0017078 c -1.7454984,2.3720609 -1.7354408,5.6174519 -6e-7,8.035443 z\" id=\"path8199-5\" inkscape:connector-curvature=\"0\" style=\"fill:#0000ff;fill-rule:evenodd;stroke:#0000ff;stroke-width:0.625;stroke-linejoin:round\" transform=\"matrix(-1.1,0,0,-1.1,-1.1,0)\"/>\n",
        "    </marker>\n",
        "    <marker id=\"Arrow2Lend-1km-9\" inkscape:stockid=\"Arrow2Lend-1km\" orient=\"auto\" refX=\"0\" refY=\"0\" style=\"overflow:visible\">\n",
        "      <path d=\"M 8.7185878,4.0337352 -2.2072895,0.01601326 8.7185884,-4.0017078 c -1.7454984,2.3720609 -1.7354408,5.6174519 -6e-7,8.035443 z\" id=\"path8196-3\" inkscape:connector-curvature=\"0\" style=\"fill:#0000ff;fill-rule:evenodd;stroke:#0000ff;stroke-width:0.625;stroke-linejoin:round\" transform=\"matrix(-1.1,0,0,-1.1,-1.1,0)\"/>\n",
        "    </marker>\n",
        "    <marker id=\"Arrow2Lend4Xq\" inkscape:stockid=\"Arrow2Lend4Xq\" orient=\"auto\" refX=\"0\" refY=\"0\" style=\"overflow:visible\">\n",
        "      <path d=\"M 8.7185878,4.0337352 -2.2072895,0.01601326 8.7185884,-4.0017078 c -1.7454984,2.3720609 -1.7354408,5.6174519 -6e-7,8.035443 z\" id=\"path8390\" inkscape:connector-curvature=\"0\" style=\"fill:#ff0000;fill-rule:evenodd;stroke:#ff0000;stroke-width:0.625;stroke-linejoin:round\" transform=\"matrix(-1.1,0,0,-1.1,-1.1,0)\"/>\n",
        "    </marker>\n",
        "    <marker id=\"Arrow2Lend-1kmM\" inkscape:stockid=\"Arrow2Lend-1kmM\" orient=\"auto\" refX=\"0\" refY=\"0\" style=\"overflow:visible\">\n",
        "      <path d=\"M 8.7185878,4.0337352 -2.2072895,0.01601326 8.7185884,-4.0017078 c -1.7454984,2.3720609 -1.7354408,5.6174519 -6e-7,8.035443 z\" id=\"path8393\" inkscape:connector-curvature=\"0\" style=\"fill:#ff0000;fill-rule:evenodd;stroke:#ff0000;stroke-width:0.625;stroke-linejoin:round\" transform=\"matrix(-1.1,0,0,-1.1,-1.1,0)\"/>\n",
        "    </marker>\n",
        "  </defs>\n",
        "  <metadata id=\"metadata7\">\n",
        "    <rdf:RDF>\n",
        "      <cc:Work rdf:about=\"\">\n",
        "        <dc:format>image/svg+xml</dc:format>\n",
        "        <dc:type rdf:resource=\"http://purl.org/dc/dcmitype/StillImage\"/>\n",
        "        <dc:title/>\n",
        "      </cc:Work>\n",
        "    </rdf:RDF>\n",
        "  </metadata>\n",
        "  <g id=\"layer1\" inkscape:groupmode=\"layer\" inkscape:label=\"Layer 1\" transform=\"translate(-184.9363,-178.42594)\">\n",
        "    <path d=\"m 357.59401,430.10822 c 0,39.05242 -30.30147,70.71067 -67.68022,70.71067 -37.37876,0 -67.68022,-31.65825 -67.68022,-70.71067 0,-39.05243 30.30146,-70.71068 67.68022,-70.71068 37.37875,0 67.68022,31.65825 67.68022,70.71068 z\" id=\"path2989\" sodipodi:cx=\"289.91379\" sodipodi:cy=\"430.10822\" sodipodi:rx=\"67.680222\" sodipodi:ry=\"70.710678\" sodipodi:type=\"arc\" style=\"fill:#ff0000;fill-rule:evenodd;stroke:#000000;stroke-width:1px;stroke-linecap:butt;stroke-linejoin:miter;stroke-opacity:1\" transform=\"matrix(0.22219926,0,0,0.21267643,384.59418,428.325)\"/>\n",
        "    <path d=\"m 202.92616,204.8442 c 262.86866,0 262.86866,0 262.86866,0\" id=\"path2991\" inkscape:connector-curvature=\"0\" style=\"fill:none;stroke:#000000;stroke-width:3.51907468px;stroke-linecap:butt;stroke-linejoin:miter;stroke-opacity:1\"/>\n",
        "    <path d=\"m 253.532,280.49304 -31.29843,0 -31.29844,0 15.64922,-27.10524 15.64922,-27.10523 15.64921,27.10523 z\" id=\"path2993\" inkscape:flatsided=\"false\" inkscape:randomized=\"0\" inkscape:rounded=\"0\" inkscape:transform-center-y=\"9.0350756\" sodipodi:arg1=\"0.52359878\" sodipodi:arg2=\"1.5707963\" sodipodi:cx=\"222.23357\" sodipodi:cy=\"262.42288\" sodipodi:r1=\"36.140316\" sodipodi:r2=\"18.070158\" sodipodi:sides=\"3\" sodipodi:type=\"star\" style=\"fill:#ffff00;fill-rule:evenodd;stroke:#000000;stroke-width:1px;stroke-linecap:butt;stroke-linejoin:miter;stroke-opacity:1\" transform=\"matrix(-1,0,0,-1,555.58391,486.45996)\"/>\n",
        "    <path d=\"m 339.78704,249.0287 103.5984,256.81995\" id=\"path2997\" inkscape:connection-end=\"#path2989\" inkscape:connection-end-point=\"d4\" inkscape:connection-start=\"#path2993\" inkscape:connection-start-point=\"d4\" inkscape:connector-curvature=\"0\" inkscape:connector-type=\"polyline\" style=\"fill:none;stroke:#000000;stroke-width:2;stroke-linecap:butt;stroke-linejoin:miter;stroke-miterlimit:4;stroke-opacity:1;stroke-dasharray:none\"/>\n",
        "    <text id=\"text4793\" sodipodi:linespacing=\"125%\" style=\"font-size:40px;font-style:normal;font-weight:normal;line-height:125%;letter-spacing:0px;word-spacing:0px;fill:#000000;fill-opacity:1;stroke:none;font-family:Sans\" x=\"402.85715\" xml:space=\"preserve\" y=\"383.79074\"><tspan id=\"tspan4795\" sodipodi:role=\"line\" x=\"402.85715\" y=\"383.79074\">L</tspan></text>\n",
        "    <text id=\"text4797\" sodipodi:linespacing=\"125%\" style=\"font-size:40px;font-style:normal;font-weight:normal;line-height:125%;letter-spacing:0px;word-spacing:0px;fill:#000000;fill-opacity:1;stroke:none;font-family:Sans\" x=\"459.71429\" xml:space=\"preserve\" y=\"559.36218\"><tspan id=\"tspan4799\" sodipodi:role=\"line\" x=\"459.71429\" y=\"559.36218\">m</tspan></text>\n",
        "    <path d=\"m 448.57079,536.36278 0,91.58741\" id=\"path4827\" inkscape:connector-curvature=\"0\" style=\"fill:none;stroke:#000000;stroke-width:1.21548557;stroke-linecap:butt;stroke-linejoin:miter;stroke-miterlimit:4;stroke-opacity:1;stroke-dasharray:none;marker-end:url(#Arrow2Lend)\"/>\n",
        "    <text id=\"text5019\" sodipodi:linespacing=\"125%\" style=\"font-size:40px;font-style:normal;font-weight:normal;line-height:125%;letter-spacing:0px;word-spacing:0px;fill:#000000;fill-opacity:1;stroke:none;font-family:Sans\" x=\"530.71423\" xml:space=\"preserve\" y=\"302.36218\"><tspan id=\"tspan5021\" sodipodi:role=\"line\" x=\"530.71423\" y=\"302.36218\">g</tspan></text>\n",
        "    <rect height=\"29.007917\" id=\"rect5023\" rx=\"0\" ry=\"0\" style=\"fill:url(#pattern6485);fill-opacity:1;stroke:none\" transform=\"matrix(1,0,0.72381295,0.68999624,0,0)\" width=\"251.274\" x=\"-2.4793456\" y=\"265.83615\"/>\n",
        "    <path d=\"m 333.91099,256.55129 0,263.31654\" id=\"path4827-1\" inkscape:connector-curvature=\"0\" style=\"fill:none;stroke:#000000;stroke-width:1.99330068;stroke-linecap:butt;stroke-linejoin:miter;stroke-miterlimit:4;stroke-opacity:1;stroke-dasharray:none;marker-end:url(#Arrow2Lend)\"/>\n",
        "    <path d=\"m 335.80895,522.381 113.26991,0\" id=\"path4827-7\" inkscape:connector-curvature=\"0\" style=\"fill:none;stroke:#000000;stroke-width:1.34446955;stroke-linecap:butt;stroke-linejoin:miter;stroke-miterlimit:4;stroke-opacity:1;stroke-dasharray:none;marker-end:url(#Arrow2Lend)\"/>\n",
        "    <text id=\"text6597\" sodipodi:linespacing=\"125%\" style=\"font-size:40px;font-style:normal;font-weight:normal;line-height:125%;letter-spacing:0px;word-spacing:0px;fill:#000000;fill-opacity:1;stroke:none;font-family:Sans\" x=\"287.93631\" xml:space=\"preserve\" y=\"388.35422\"><tspan id=\"tspan6599\" sodipodi:role=\"line\" x=\"287.93631\" y=\"388.35422\">q<tspan id=\"tspan6601\" style=\"font-size:65.00091553%;baseline-shift:sub\">1</tspan></tspan></text>\n",
        "    <text id=\"text6603\" sodipodi:linespacing=\"125%\" style=\"font-size:40px;font-style:normal;font-weight:normal;line-height:125%;letter-spacing:0px;word-spacing:0px;fill:#000000;fill-opacity:1;stroke:none;font-family:Sans\" x=\"366.93631\" xml:space=\"preserve\" y=\"506.35422\"><tspan id=\"tspan6605\" sodipodi:role=\"line\" x=\"366.93631\" y=\"506.35422\">q<tspan id=\"tspan6607\" style=\"font-size:65.00091553%;baseline-shift:sub\">2</tspan></tspan></text>\n",
        "    <path d=\"m 465.63937,521.37564 91.58741,0\" id=\"path4827-9\" inkscape:connector-curvature=\"0\" style=\"fill:none;stroke:#000000;stroke-width:1.21548557;stroke-linecap:butt;stroke-linejoin:miter;stroke-miterlimit:4;stroke-opacity:1;stroke-dasharray:none;marker-end:url(#Arrow2Lend)\"/>\n",
        "    <text id=\"text6633\" sodipodi:linespacing=\"125%\" style=\"font-size:40px;font-style:normal;font-weight:normal;line-height:125%;letter-spacing:0px;word-spacing:0px;fill:#000000;fill-opacity:1;stroke:none;font-family:Sans\" x=\"402.93631\" xml:space=\"preserve\" y=\"582.35425\"><tspan id=\"tspan6635\" sodipodi:role=\"line\" x=\"402.93631\" y=\"582.35425\">u<tspan id=\"tspan6637\" style=\"font-size:65.00091553%;baseline-shift:sub\">1</tspan></tspan></text>\n",
        "    <text id=\"text6639\" sodipodi:linespacing=\"125%\" style=\"font-size:40px;font-style:normal;font-weight:normal;line-height:125%;letter-spacing:0px;word-spacing:0px;fill:#000000;fill-opacity:1;stroke:none;font-family:Sans\" x=\"481.93631\" xml:space=\"preserve\" y=\"508.35422\"><tspan id=\"tspan6641\" sodipodi:role=\"line\" x=\"481.93631\" y=\"508.35422\">u<tspan id=\"tspan6643\" style=\"font-size:65.00091553%;baseline-shift:sub\">2</tspan></tspan></text>\n",
        "    <path d=\"m 520.9149,264.05894 0,92.49758\" id=\"path4827-4\" inkscape:connector-curvature=\"0\" style=\"fill:none;stroke:#000000;stroke-width:1.21877503;stroke-linecap:butt;stroke-linejoin:miter;stroke-miterlimit:4;stroke-opacity:1;stroke-dasharray:none;marker-end:url(#Arrow2Lend)\"/>\n",
        "    <g id=\"g8297\" transform=\"translate(-120,-14)\">\n",
        "      <path d=\"m 333.2704,243.61034 0,56.62207\" id=\"path4827-70\" inkscape:connector-curvature=\"0\" style=\"fill:none;stroke:#0000ff;stroke-width:1.53423667;stroke-linecap:butt;stroke-linejoin:miter;stroke-miterlimit:4;stroke-opacity:1;stroke-dasharray:none;marker-end:url(#Arrow2Lend4X)\"/>\n",
        "      <path d=\"m 333.2074,243.13275 56.19646,0\" id=\"path4827-9-6\" inkscape:connector-curvature=\"0\" style=\"fill:none;stroke:#0000ff;stroke-width:1.65040851;stroke-linecap:butt;stroke-linejoin:miter;stroke-miterlimit:4;stroke-opacity:1;stroke-dasharray:none;marker-end:url(#Arrow2Lend-1km)\"/>\n",
        "    </g>\n",
        "    <text id=\"text8301\" sodipodi:linespacing=\"125%\" style=\"font-size:40px;font-style:normal;font-weight:normal;line-height:125%;letter-spacing:0px;word-spacing:0px;fill:#000000;fill-opacity:1;stroke:none;font-family:Sans\" x=\"216.93629\" xml:space=\"preserve\" y=\"299.35422\"><tspan id=\"tspan8303\" sodipodi:role=\"line\" style=\"font-size:24px\" x=\"216.93629\" y=\"299.35422\">N<tspan id=\"tspan8571\" style=\"font-size:65.00091553%;baseline-shift:sub\">x</tspan></tspan></text>\n",
        "    <text id=\"text8307\" sodipodi:linespacing=\"125%\" style=\"font-size:40px;font-style:normal;font-weight:normal;line-height:125%;letter-spacing:0px;word-spacing:0px;fill:#000000;fill-opacity:1;stroke:none;font-family:Sans\" x=\"247.93631\" xml:space=\"preserve\" y=\"258.35422\"><tspan id=\"tspan8309\" sodipodi:role=\"line\" style=\"font-size:24px\" x=\"247.93631\" y=\"258.35422\">N<tspan id=\"tspan8569\" style=\"font-size:65.00091553%;baseline-shift:sub\">y</tspan></tspan></text>\n",
        "    <path d=\"m 335.39519,236.31191 20.29154,52.86126\" id=\"path4827-70-2\" inkscape:connector-curvature=\"0\" style=\"fill:none;stroke:#ff0000;stroke-width:1.53423667;stroke-linecap:butt;stroke-linejoin:miter;stroke-miterlimit:4;stroke-opacity:1;stroke-dasharray:none;marker-end:url(#Arrow2Lend4Xq)\"/>\n",
        "    <path d=\"m 335.16523,235.88862 52.46391,-20.13901\" id=\"path4827-9-6-9\" inkscape:connector-curvature=\"0\" style=\"fill:none;stroke:#ff0000;stroke-width:1.65040851;stroke-linecap:butt;stroke-linejoin:miter;stroke-miterlimit:4;stroke-opacity:1;stroke-dasharray:none;marker-end:url(#Arrow2Lend-1kmM)\"/>\n",
        "    <text id=\"text8301-7\" sodipodi:linespacing=\"125%\" style=\"font-size:40px;font-style:normal;font-weight:normal;line-height:125%;letter-spacing:0px;word-spacing:0px;fill:#000000;fill-opacity:1;stroke:none;font-family:Sans\" x=\"361.07303\" xml:space=\"preserve\" y=\"284.70227\"><tspan id=\"tspan8303-9\" sodipodi:role=\"line\" style=\"font-size:24px\" x=\"361.07303\" y=\"284.70227\">A<tspan id=\"tspan8567\" style=\"font-size:65.00091553%;baseline-shift:sub\">x</tspan></tspan></text>\n",
        "    <text id=\"text8307-4\" sodipodi:linespacing=\"125%\" style=\"font-size:40px;font-style:normal;font-weight:normal;line-height:125%;letter-spacing:0px;word-spacing:0px;fill:#000000;fill-opacity:1;stroke:none;font-family:Sans\" x=\"386.03787\" xml:space=\"preserve\" y=\"235.20618\"><tspan id=\"tspan8309-7\" sodipodi:role=\"line\" style=\"font-size:24px\" x=\"386.03787\" y=\"235.20618\">A<tspan id=\"tspan8565\" style=\"font-size:65.00091553%;baseline-shift:sub\">y</tspan></tspan></text>\n",
        "  </g>\n",
        "</svg>"
       ],
       "text": [
        "<IPython.core.display.SVG at 0x7fc43a7ad748>"
       ]
      }
     ],
     "prompt_number": 21
    },
    {
     "cell_type": "code",
     "collapsed": false,
     "input": [
      "# Create generalized coordinates and speeds for this non-minimal realization\n",
      "q1, q2 = qs = dynamicsymbols('q1:3')\n",
      "q1d, q2d = qds = dynamicsymbols('q1:3', level=1)\n",
      "u1, u2 = us = dynamicsymbols('u1:3')\n",
      "u1d, u2d = uds = dynamicsymbols('u1:3', level=1)"
     ],
     "language": "python",
     "metadata": {},
     "outputs": [],
     "prompt_number": 22
    },
    {
     "cell_type": "markdown",
     "metadata": {},
     "source": [
      "As before, the a rotating reference frame $A$ is attached to the pendulum. However, this time we don't have a generalized coordinate representing the rotation angle. This can be easily calculated though as\n",
      "\n",
      "$$\\theta = \\arctan(q_2/q_1)$$"
     ]
    },
    {
     "cell_type": "code",
     "collapsed": false,
     "input": [
      "theta1 = atan(q2/q1)\n",
      "A = N.orientnew('A', 'axis', [theta1, N.z])"
     ],
     "language": "python",
     "metadata": {},
     "outputs": [],
     "prompt_number": 23
    },
    {
     "cell_type": "markdown",
     "metadata": {},
     "source": [
      "The pendulum mass can easily be located in the global reference frame $N$ using the generalized coordinates, as they're just the x and y coordinates of the mass."
     ]
    },
    {
     "cell_type": "code",
     "collapsed": false,
     "input": [
      "P = pN.locatenew('P1', q1*N.x + q2*N.y)\n",
      "mprint(P.pos_from(pN))"
     ],
     "language": "python",
     "metadata": {},
     "outputs": [
      {
       "output_type": "stream",
       "stream": "stdout",
       "text": [
        "q1*N.x + q2*N.y\n"
       ]
      }
     ],
     "prompt_number": 24
    },
    {
     "cell_type": "markdown",
     "metadata": {},
     "source": [
      "Next, we calculate the kinematic differential equations as before"
     ]
    },
    {
     "cell_type": "code",
     "collapsed": false,
     "input": [
      "kde = Matrix([q1d - u1,\n",
      "              q2d - u2])\n",
      "dq_dict = solve(kde, [q1d, q2d])"
     ],
     "language": "python",
     "metadata": {},
     "outputs": [],
     "prompt_number": 25
    },
    {
     "cell_type": "markdown",
     "metadata": {},
     "source": [
      "The velocity of point P is just the time derivative of its position vector from the origin. Here we substitute all $\\dot{q}$ terms for an equivalent expression using $u$."
     ]
    },
    {
     "cell_type": "code",
     "collapsed": false,
     "input": [
      "P.set_vel(N, P.pos_from(pN).dt(N).subs(dq_dict))\n",
      "mprint(P.vel(N))"
     ],
     "language": "python",
     "metadata": {},
     "outputs": [
      {
       "output_type": "stream",
       "stream": "stdout",
       "text": [
        "u1*N.x + u2*N.y\n"
       ]
      }
     ],
     "prompt_number": 26
    },
    {
     "cell_type": "markdown",
     "metadata": {},
     "source": [
      "As the system has only one degree of freedom, but two generalized coordinates, there needs to be a configuration consttraint relating the coordinates. The configuration constraint is expressed in the form\n",
      "\n",
      "$$ f_c(q, t) = 0 $$\n",
      "\n",
      "In this case, the length of the pendulum must always be ***L***, so $f_c$ can be expressed as"
     ]
    },
    {
     "cell_type": "code",
     "collapsed": false,
     "input": [
      "f_c = Matrix([P.pos_from(pN).magnitude() - L])\n",
      "mprint(f_c)"
     ],
     "language": "python",
     "metadata": {},
     "outputs": [
      {
       "output_type": "stream",
       "stream": "stdout",
       "text": [
        "Matrix([[-L + sqrt(q1**2 + q2**2)]])\n"
       ]
      }
     ],
     "prompt_number": 27
    },
    {
     "cell_type": "markdown",
     "metadata": {},
     "source": [
      "Similarly, there are two generalized speeds, making the use of a velocity constraint equation necessary. Velocity constraints are written as\n",
      "\n",
      "$$ f_v(q, u, t) = 0 $$\n",
      "\n",
      "In this case, the velocity in the $A_x$ direction is always zero (the pendulum is never getting longer). This can be expressed by calculating the velocity of ***P*** in reference frame ***N***, and setting the component in the $A_x$ direction to 0."
     ]
    },
    {
     "cell_type": "code",
     "collapsed": false,
     "input": [
      "f_v = Matrix([P.vel(N).express(A).dot(A.x)])\n",
      "f_v.simplify()\n",
      "mprint(f_v)"
     ],
     "language": "python",
     "metadata": {},
     "outputs": [
      {
       "output_type": "stream",
       "stream": "stdout",
       "text": [
        "Matrix([[sqrt((q1**2 + q2**2)/q1**2)*(q1*u1 + q2*u2)*q1/(q1**2 + q2**2)]])\n"
       ]
      }
     ],
     "prompt_number": 28
    },
    {
     "cell_type": "markdown",
     "metadata": {},
     "source": [
      "Acceleration constraints are then just the time derivative of the velocity constraint:"
     ]
    },
    {
     "cell_type": "code",
     "collapsed": false,
     "input": [
      "f_a = f_v.diff(t)\n",
      "f_a.simplify()\n",
      "mprint(f_a)"
     ],
     "language": "python",
     "metadata": {},
     "outputs": [
      {
       "output_type": "stream",
       "stream": "stdout",
       "text": [
        "Matrix([[sqrt((q1**2 + q2**2)/q1**2)*(q1**3*u1' + q1**2*q2*u2' + q1**2*u2*q2' + q1*q2**2*u1' - q1*q2*u1*q2' - q1*q2*u2*q1' + q2**3*u2' + q2**2*u1*q1')*q1/(q1**4 + 2*q1**2*q2**2 + q2**4)]])\n"
       ]
      }
     ],
     "prompt_number": 29
    },
    {
     "cell_type": "markdown",
     "metadata": {},
     "source": [
      "For this example, the remainder will be calculated using the `KanesMethod` class as above. Due to the presence of velocity constraints (nonholonomic), Kanes Method proceeds a little different than before, and this post is already long enough... \n",
      "\n",
      "All you really need to know is that before the EOM are derived, a subset of generalized coordinates and speeds needs to be choosen to be the \"independent\" variables, making the remaining \"dependent\". There are reasons to choose some variables over others, but here we'll just let $q_1$ and $u_1$ be independent, making $q_2$ and $u_2$ dependent."
     ]
    },
    {
     "cell_type": "code",
     "collapsed": false,
     "input": [
      "# Derive the equations of motion using the KanesMethod class. This proceeds much the\n",
      "# same as it did in the previous section. The only difference is the addition\n",
      "# of the dependent variable and constraint kwargs.\n",
      "pP = Particle('pP', P, m)\n",
      "FL = [(P, R)]\n",
      "BL = [pP]\n",
      "KM = KanesMethod(N, q_ind=[q1], u_ind=[u1], q_dependent=[q2], u_dependent=[u2],\n",
      "                 configuration_constraints=f_c, velocity_constraints=f_v, acceleration_constraints=f_a, kd_eqs=kde)\n",
      "(fr, frstar) = KM.kanes_equations(FL, BL)\n",
      "kdd = KM.kindiffdict()\n",
      "mm = KM.mass_matrix_full\n",
      "fo = KM.forcing_full\n",
      "mm.simplify()\n",
      "fo.simplify()\n",
      "# Solve for the first order form of the EOM\n",
      "qudots_nm = mm.inv() * fo\n",
      "qudots_nm = qudots_nm.subs(kdd)\n",
      "qudots_nm.simplify()\n",
      "mprint(qudots_nm)"
     ],
     "language": "python",
     "metadata": {},
     "outputs": [
      {
       "output_type": "stream",
       "stream": "stdout",
       "text": [
        "Matrix([\n",
        "[                                                                                                                                  u1],\n",
        "[                                                                                                                                  u2],\n",
        "[(-1.0*q1**3*u2**2 + 9.8*q1**2*q2**2 + 2.0*q1**2*q2*u1*u2 - 1.0*q1*q2**2*u1**2 + 9.8*q2**4)/(1.0*q1**4 + 2.0*q1**2*q2**2 + 1.0*q2**4)],\n",
        "[  -1.0*(9.8*q1**3 + 1.0*q1**2*u2**2 + 9.8*q1*q2**2 - 2.0*q1*q2*u1*u2 + 1.0*q2**2*u1**2)*q2/(1.0*q1**4 + 2.0*q1**2*q2**2 + 1.0*q2**4)]])\n"
       ]
      }
     ],
     "prompt_number": 30
    },
    {
     "cell_type": "markdown",
     "metadata": {},
     "source": [
      "Note that the right hand side is now a 4x1 matrix, rather than a 2x1 as before. This will be important later.\n",
      "\n",
      "To ensure that the derived equations are equivalent, a variable transformation could be done, and the minimal case trasnformed into the nonminimal equations. However, we're just going to simulate the system to show that they have the same response. Not rigorous at all, but it's good enough for now."
     ]
    },
    {
     "cell_type": "markdown",
     "metadata": {},
     "source": [
      "#Simulation"
     ]
    },
    {
     "cell_type": "code",
     "collapsed": false,
     "input": [
      "from sympy import lambdify\n",
      "from scipy.integrate import odeint\n",
      "from scipy import linspace, array, pi, cos, sin\n",
      "import matplotlib.pyplot as plt\n",
      "%matplotlib inline"
     ],
     "language": "python",
     "metadata": {},
     "outputs": [],
     "prompt_number": 31
    },
    {
     "cell_type": "markdown",
     "metadata": {},
     "source": [
      "First we need to substitute in numbers for the constants ***L***, and ***m***"
     ]
    },
    {
     "cell_type": "code",
     "collapsed": false,
     "input": [
      "val_dict = {L: 1,                 # Length of 1 m\n",
      "            m: 0.5}               # Mass of 1/2 kg\n",
      "\n",
      "# Substitute into the minimal and nonminimal EOM expressions:\n",
      "qudots = qudots.subs(val_dict)\n",
      "qudots_nm = qudots_nm.subs(val_dict)"
     ],
     "language": "python",
     "metadata": {},
     "outputs": [],
     "prompt_number": 32
    },
    {
     "cell_type": "markdown",
     "metadata": {},
     "source": [
      "Using `lambdify`, the equations of motion derived above can then be converted into equivalent `Numpy` expressions, allowing for fast computations. Then, a second lambda expression can be used to put the EOM into the needed for numerical integration with `odeint`."
     ]
    },
    {
     "cell_type": "code",
     "collapsed": false,
     "input": [
      "f_nonminimal = lambdify(Matrix([qs, us]),qudots_nm)\n",
      "f_minimal = lambdify(Matrix([q1, u1]), qudots)\n",
      "# Lambda expressions for use with odeint\n",
      "rhs_minimal = lambda x, t: array(f_minimal(*x)).reshape(2)\n",
      "rhs_nonminimal = lambda x, t: array(f_nonminimal(*x)).reshape(4)"
     ],
     "language": "python",
     "metadata": {},
     "outputs": [],
     "prompt_number": 33
    },
    {
     "cell_type": "markdown",
     "metadata": {},
     "source": [
      "Both systems can then be simulated with `odeint`. Let's define the initial condition to be horizontal to the right, with no initial velocity."
     ]
    },
    {
     "cell_type": "code",
     "collapsed": false,
     "input": [
      "# Define initial condition to be horizontal to the right, with no velocity\n",
      "x_0_m = [pi/2, 0]\n",
      "x_0_nm = [0, 1, 0, 0]\n",
      "# Create time vector, and run the simulation\n",
      "ts = linspace(0, 5, 1000)\n",
      "x_nm = odeint(rhs_nonminimal, x_0_nm, ts)\n",
      "x_m = odeint(rhs_minimal, x_0_m, ts)\n",
      "# Plot both simulations on top of each other\n",
      "plt.subplot(2,1,1)\n",
      "plt.title('Simulation Results')\n",
      "plt.plot(ts, val_dict[L]*sin(x_m[:,0]), label=\"Minimal\")\n",
      "plt.plot(ts, x_nm[:,1], label=\"Nonminimal\")\n",
      "plt.xlabel('t (s)')\n",
      "plt.ylabel('$N_y$ coordinate (m)')\n",
      "plt.legend()\n",
      "plt.subplot(2,1,2)\n",
      "plt.plot(ts, val_dict[L]*cos(x_m[:,0]), ts, x_nm[:,0])\n",
      "plt.xlabel('t (s)')\n",
      "plt.ylabel('$N_x$ coordinate (m)');"
     ],
     "language": "python",
     "metadata": {},
     "outputs": [
      {
       "metadata": {},
       "output_type": "display_data",
       "png": "[encoded data removed]",
       "text": [
        "<matplotlib.figure.Figure at 0x7fc427fecb38>"
       ]
      }
     ],
     "prompt_number": 34
    },
    {
     "cell_type": "markdown",
     "metadata": {},
     "source": [
      "As can be seen by the above, the simulation results are identical. Thus, both the minimal and nonminimal sets of coordinates result in the same system equations."
     ]
    },
    {
     "cell_type": "markdown",
     "metadata": {},
     "source": [
      "#Linearization"
     ]
    },
    {
     "cell_type": "markdown",
     "metadata": {},
     "source": [
      "As mentioned at the beginning of this behemoth of a post, my project for the summer is on implementing functionality for linearizing systems of equations with and without constraints. While linearizing an unconstrained system is simple, some care must be taken for linearizing a system with constraints. \n",
      "\n",
      "In the above sections we derived two sets of equations of motion for a simple pendulum; one set without constraints, and one with. Now let's see what happens when we apply the naive linearization method of the simple jacobian to both systems:\n",
      "\n",
      "First, we need to determine the trim condition we wish to linearize about. This must be a valid position (satisfy the system of equations). For simplicity, lets choose the stable, straight down at rest configuration ($\\theta = 0$, $\\omega = 0$)."
     ]
    },
    {
     "cell_type": "code",
     "collapsed": false,
     "input": [
      "# Set the trim condition for the minimal approach\n",
      "trim_cond_m = array([0, 0])\n",
      "# Perform simple linearization by computing the jacobian of the rhs\n",
      "min_lin = qudots.jacobian([q1, u1]).subs(dict(zip([q1, u1], trim_cond_m)))\n",
      "min_lin"
     ],
     "language": "python",
     "metadata": {},
     "outputs": [
      {
       "metadata": {},
       "output_type": "pyout",
       "prompt_number": 35,
       "text": [
        "Matrix([\n",
        "[   0, 1],\n",
        "[-9.8, 0]])"
       ]
      }
     ],
     "prompt_number": 35
    },
    {
     "cell_type": "code",
     "collapsed": false,
     "input": [
      "# Set the trim condition for the nonminimal approach\n",
      "trim_cond_nm = array([val_dict[L], 0, 0, 0])\n",
      "# Perform naive linearization by computing the jacobian of the rhs\n",
      "nonmin_lin = qudots_nm.jacobian([q1, q2, u1, u2]).subs(dict(zip([q1, q2, u1, u2], trim_cond_nm)))\n",
      "nonmin_lin"
     ],
     "language": "python",
     "metadata": {},
     "outputs": [
      {
       "metadata": {},
       "output_type": "pyout",
       "prompt_number": 36,
       "text": [
        "Matrix([\n",
        "[0,    0, 1, 0],\n",
        "[0,    0, 0, 1],\n",
        "[0,    0, 0, 0],\n",
        "[0, -9.8, 0, 0]])"
       ]
      }
     ],
     "prompt_number": 36
    },
    {
     "cell_type": "markdown",
     "metadata": {},
     "source": [
      "One use for a linearized system is for stability analysis at the point of linearization. This is done by computing the eigenvalues of the resulting system matrix."
     ]
    },
    {
     "cell_type": "code",
     "collapsed": false,
     "input": [
      "print(\"Minimal Eigenvalues:\\n\", min_lin.eigenvals())\n",
      "print(\"Nonminimal Eigenvalues:\\n\", nonmin_lin.eigenvals())"
     ],
     "language": "python",
     "metadata": {},
     "outputs": [
      {
       "output_type": "stream",
       "stream": "stdout",
       "text": [
        "Minimal Eigenvalues:\n",
        " {7*sqrt(5)*I/5: 1, -7*sqrt(5)*I/5: 1}\n",
        "Nonminimal Eigenvalues:\n",
        " {0: 2, 7*sqrt(5)*I/5: 1, -7*sqrt(5)*I/5: 1}\n"
       ]
      }
     ],
     "prompt_number": 37
    },
    {
     "cell_type": "markdown",
     "metadata": {},
     "source": [
      "Looking at the eigenvalues of each matrix (as well as the *shape* of each matrix) you can already see something's not quite correct with the nonminimal linearization. With only one coordinate and one speed needed to set the state for the system, there should be only 2 eigenvalues, while the nonminimal linearization gives 4. \n",
      "\n",
      "To further the point, the linearized systems can be simulated and compared with the nonlinear system. For small angle deviations, the system responses should be similar. We'll use a deviation of 1 degree, which should be small enough that they match:"
     ]
    },
    {
     "cell_type": "code",
     "collapsed": false,
     "input": [
      "# Create the initial conditions based on the trim a deviation of 1 degree\n",
      "# from the trim condition, with no initial velocity\n",
      "delta = 1*pi/180\n",
      "x0min = array([delta, 0]) - trim_cond_m\n",
      "x0nonmin = array([val_dict[L]*cos(delta), val_dict[L]*sin(delta), 0, 0]) - trim_cond_nm"
     ],
     "language": "python",
     "metadata": {},
     "outputs": [],
     "prompt_number": 38
    },
    {
     "cell_type": "code",
     "collapsed": false,
     "input": [
      "# Create the required functions for simulation with odeint\n",
      "f_nonminimal_lin = lambdify(qs + us, nonmin_lin*Matrix(qs + us))\n",
      "f_minimal_lin = lambdify([q1, u1], min_lin*Matrix([q1, u1]))\n",
      "rhs_nonminimal_lin = lambda x, t: array(f_nonminimal_lin(*x)).reshape(4)\n",
      "rhs_minimal_lin = lambda x, t: array(f_minimal_lin(*x)).reshape(2)"
     ],
     "language": "python",
     "metadata": {},
     "outputs": [],
     "prompt_number": 39
    },
    {
     "cell_type": "code",
     "collapsed": false,
     "input": [
      "# Run the simulation\n",
      "t = linspace(0, 5, 1000)\n",
      "x_nm = odeint(rhs_nonminimal, x0nonmin + trim_cond_nm, t)\n",
      "x_m = odeint(rhs_minimal, x0min + trim_cond_m, t)\n",
      "x_nm_lin = odeint(rhs_nonminimal_lin, x0nonmin, t) + trim_cond_nm\n",
      "x_m_lin = odeint(rhs_minimal_lin, x0min, t) + trim_cond_m"
     ],
     "language": "python",
     "metadata": {},
     "outputs": [],
     "prompt_number": 40
    },
    {
     "cell_type": "code",
     "collapsed": false,
     "input": [
      "# Plot the results\n",
      "plt.figure(1)\n",
      "plt.subplot(2,1,1)\n",
      "plt.plot(t, val_dict[L]*sin(x_m[:,0]), t, val_dict[L]*sin(x_m_lin[:,0]))\n",
      "plt.xlabel('t, (s)')\n",
      "plt.ylabel('$N_y$ Coordinate (m)')\n",
      "plt.title('Minimal Coordinates Simulation Results')\n",
      "plt.legend(['Nonlinear', 'Linear'])\n",
      "plt.subplot(2,1,2)\n",
      "plt.plot(t, val_dict[L]*cos(x_m[:,0]), t, val_dict[L]*cos(x_m_lin[:,0]))\n",
      "plt.xlabel('t, (s)')\n",
      "plt.ylabel('$N_x$ Coordinate (m)');\n",
      "plt.figure(2)\n",
      "plt.subplot(2,1,1)\n",
      "plt.plot(t, x_nm[:,1], t, x_nm_lin[:,1])\n",
      "plt.xlabel('t, (s)')\n",
      "plt.ylabel('$N_y$ Coordinate (m)')\n",
      "plt.title('Nonminimal Coordinates Simulation Results')\n",
      "plt.legend(['Nonlinear', 'Linear'])\n",
      "plt.subplot(2,1,2)\n",
      "plt.plot(t, x_nm[:,0], t, x_nm_lin[:,0])\n",
      "plt.xlabel('t, (s)')\n",
      "plt.ylabel('$N_x$ Coordinate (m)');"
     ],
     "language": "python",
     "metadata": {},
     "outputs": [
      {
       "metadata": {},
       "output_type": "display_data",
       "png": "[encoded data removed]",
       "text": [
        "<matplotlib.figure.Figure at 0x7fc427fbee10>"
       ]
      },
      {
       "metadata": {},
       "output_type": "display_data",
       "png": "[encoded data removed]",
       "text": [
        "<matplotlib.figure.Figure at 0x7fc427fb1828>"
       ]
      }
     ],
     "prompt_number": 41
    },
    {
     "cell_type": "markdown",
     "metadata": {},
     "source": [
      "While the minimal coordinate linear and nonlinear simulation results line up nicely, the $N_x$ coordinate response of the linearized nonminimal system is significantly off. This is because for the nonminimal system, the generalized coordinates and speeds aren't independent but functions of other coordinates and speeds. Thus, when taking the jacobian the chain rule needs to be applied correctly, and the dependent states removed from the linearized expression.\n",
      "\n",
      "This is the basis for my GSoC project. The implementation of a robust way to linearize systems that *works*, regardless of constraints or nonminimal system realization. A method for doing this in a systematic manner was derived by one of my mentors, and I plan on starting with that. I think it can be generalized to Lagrange's equations, as well as other systems, but I need to think more on that. \n",
      "\n",
      "This week I spent some time teaching myself Kane's Method, and then the remainder working through a bunch of test cases to be used as unit tests for the linearization routines. Next week I'll begin work on the actual implementation.\n",
      "\n",
      "*This ipython notebook can be found [here](https://github.com/jcrist/ipython_notebooks/tree/master/Pendulum)*"
     ]
    }
   ],
   "metadata": {}
  }
 ]
}